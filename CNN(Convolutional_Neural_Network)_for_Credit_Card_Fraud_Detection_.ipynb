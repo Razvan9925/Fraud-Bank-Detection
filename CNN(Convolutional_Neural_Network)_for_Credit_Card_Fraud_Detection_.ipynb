{
  "nbformat": 4,
  "nbformat_minor": 0,
  "metadata": {
    "colab": {
      "provenance": [],
      "machine_shape": "hm",
      "toc_visible": true
    },
    "kernelspec": {
      "name": "python3",
      "display_name": "Python 3"
    },
    "language_info": {
      "name": "python"
    }
  },
  "cells": [
    {
      "cell_type": "markdown",
      "source": [
        "# ***Etapa I: Install și setup***"
      ],
      "metadata": {
        "id": "3il0TzR7My8U"
      }
    },
    {
      "cell_type": "code",
      "source": [
        "!pip install  tensorflow"
      ],
      "metadata": {
        "colab": {
          "base_uri": "https://localhost:8080/"
        },
        "id": "k0STwAlhNPM4",
        "outputId": "a2d90712-88c7-4002-a744-c485f0e31f6e"
      },
      "execution_count": null,
      "outputs": [
        {
          "output_type": "stream",
          "name": "stdout",
          "text": [
            "Requirement already satisfied: tensorflow in /usr/local/lib/python3.10/dist-packages (2.15.0)\n",
            "Requirement already satisfied: absl-py>=1.0.0 in /usr/local/lib/python3.10/dist-packages (from tensorflow) (1.4.0)\n",
            "Requirement already satisfied: astunparse>=1.6.0 in /usr/local/lib/python3.10/dist-packages (from tensorflow) (1.6.3)\n",
            "Requirement already satisfied: flatbuffers>=23.5.26 in /usr/local/lib/python3.10/dist-packages (from tensorflow) (24.3.25)\n",
            "Requirement already satisfied: gast!=0.5.0,!=0.5.1,!=0.5.2,>=0.2.1 in /usr/local/lib/python3.10/dist-packages (from tensorflow) (0.5.4)\n",
            "Requirement already satisfied: google-pasta>=0.1.1 in /usr/local/lib/python3.10/dist-packages (from tensorflow) (0.2.0)\n",
            "Requirement already satisfied: h5py>=2.9.0 in /usr/local/lib/python3.10/dist-packages (from tensorflow) (3.9.0)\n",
            "Requirement already satisfied: libclang>=13.0.0 in /usr/local/lib/python3.10/dist-packages (from tensorflow) (18.1.1)\n",
            "Requirement already satisfied: ml-dtypes~=0.2.0 in /usr/local/lib/python3.10/dist-packages (from tensorflow) (0.2.0)\n",
            "Requirement already satisfied: numpy<2.0.0,>=1.23.5 in /usr/local/lib/python3.10/dist-packages (from tensorflow) (1.25.2)\n",
            "Requirement already satisfied: opt-einsum>=2.3.2 in /usr/local/lib/python3.10/dist-packages (from tensorflow) (3.3.0)\n",
            "Requirement already satisfied: packaging in /usr/local/lib/python3.10/dist-packages (from tensorflow) (24.0)\n",
            "Requirement already satisfied: protobuf!=4.21.0,!=4.21.1,!=4.21.2,!=4.21.3,!=4.21.4,!=4.21.5,<5.0.0dev,>=3.20.3 in /usr/local/lib/python3.10/dist-packages (from tensorflow) (3.20.3)\n",
            "Requirement already satisfied: setuptools in /usr/local/lib/python3.10/dist-packages (from tensorflow) (67.7.2)\n",
            "Requirement already satisfied: six>=1.12.0 in /usr/local/lib/python3.10/dist-packages (from tensorflow) (1.16.0)\n",
            "Requirement already satisfied: termcolor>=1.1.0 in /usr/local/lib/python3.10/dist-packages (from tensorflow) (2.4.0)\n",
            "Requirement already satisfied: typing-extensions>=3.6.6 in /usr/local/lib/python3.10/dist-packages (from tensorflow) (4.11.0)\n",
            "Requirement already satisfied: wrapt<1.15,>=1.11.0 in /usr/local/lib/python3.10/dist-packages (from tensorflow) (1.14.1)\n",
            "Requirement already satisfied: tensorflow-io-gcs-filesystem>=0.23.1 in /usr/local/lib/python3.10/dist-packages (from tensorflow) (0.36.0)\n",
            "Requirement already satisfied: grpcio<2.0,>=1.24.3 in /usr/local/lib/python3.10/dist-packages (from tensorflow) (1.62.1)\n",
            "Requirement already satisfied: tensorboard<2.16,>=2.15 in /usr/local/lib/python3.10/dist-packages (from tensorflow) (2.15.2)\n",
            "Requirement already satisfied: tensorflow-estimator<2.16,>=2.15.0 in /usr/local/lib/python3.10/dist-packages (from tensorflow) (2.15.0)\n",
            "Requirement already satisfied: keras<2.16,>=2.15.0 in /usr/local/lib/python3.10/dist-packages (from tensorflow) (2.15.0)\n",
            "Requirement already satisfied: wheel<1.0,>=0.23.0 in /usr/local/lib/python3.10/dist-packages (from astunparse>=1.6.0->tensorflow) (0.43.0)\n",
            "Requirement already satisfied: google-auth<3,>=1.6.3 in /usr/local/lib/python3.10/dist-packages (from tensorboard<2.16,>=2.15->tensorflow) (2.27.0)\n",
            "Requirement already satisfied: google-auth-oauthlib<2,>=0.5 in /usr/local/lib/python3.10/dist-packages (from tensorboard<2.16,>=2.15->tensorflow) (1.2.0)\n",
            "Requirement already satisfied: markdown>=2.6.8 in /usr/local/lib/python3.10/dist-packages (from tensorboard<2.16,>=2.15->tensorflow) (3.6)\n",
            "Requirement already satisfied: requests<3,>=2.21.0 in /usr/local/lib/python3.10/dist-packages (from tensorboard<2.16,>=2.15->tensorflow) (2.31.0)\n",
            "Requirement already satisfied: tensorboard-data-server<0.8.0,>=0.7.0 in /usr/local/lib/python3.10/dist-packages (from tensorboard<2.16,>=2.15->tensorflow) (0.7.2)\n",
            "Requirement already satisfied: werkzeug>=1.0.1 in /usr/local/lib/python3.10/dist-packages (from tensorboard<2.16,>=2.15->tensorflow) (3.0.2)\n",
            "Requirement already satisfied: cachetools<6.0,>=2.0.0 in /usr/local/lib/python3.10/dist-packages (from google-auth<3,>=1.6.3->tensorboard<2.16,>=2.15->tensorflow) (5.3.3)\n",
            "Requirement already satisfied: pyasn1-modules>=0.2.1 in /usr/local/lib/python3.10/dist-packages (from google-auth<3,>=1.6.3->tensorboard<2.16,>=2.15->tensorflow) (0.4.0)\n",
            "Requirement already satisfied: rsa<5,>=3.1.4 in /usr/local/lib/python3.10/dist-packages (from google-auth<3,>=1.6.3->tensorboard<2.16,>=2.15->tensorflow) (4.9)\n",
            "Requirement already satisfied: requests-oauthlib>=0.7.0 in /usr/local/lib/python3.10/dist-packages (from google-auth-oauthlib<2,>=0.5->tensorboard<2.16,>=2.15->tensorflow) (1.3.1)\n",
            "Requirement already satisfied: charset-normalizer<4,>=2 in /usr/local/lib/python3.10/dist-packages (from requests<3,>=2.21.0->tensorboard<2.16,>=2.15->tensorflow) (3.3.2)\n",
            "Requirement already satisfied: idna<4,>=2.5 in /usr/local/lib/python3.10/dist-packages (from requests<3,>=2.21.0->tensorboard<2.16,>=2.15->tensorflow) (3.6)\n",
            "Requirement already satisfied: urllib3<3,>=1.21.1 in /usr/local/lib/python3.10/dist-packages (from requests<3,>=2.21.0->tensorboard<2.16,>=2.15->tensorflow) (2.0.7)\n",
            "Requirement already satisfied: certifi>=2017.4.17 in /usr/local/lib/python3.10/dist-packages (from requests<3,>=2.21.0->tensorboard<2.16,>=2.15->tensorflow) (2024.2.2)\n",
            "Requirement already satisfied: MarkupSafe>=2.1.1 in /usr/local/lib/python3.10/dist-packages (from werkzeug>=1.0.1->tensorboard<2.16,>=2.15->tensorflow) (2.1.5)\n",
            "Requirement already satisfied: pyasn1<0.7.0,>=0.4.6 in /usr/local/lib/python3.10/dist-packages (from pyasn1-modules>=0.2.1->google-auth<3,>=1.6.3->tensorboard<2.16,>=2.15->tensorflow) (0.6.0)\n",
            "Requirement already satisfied: oauthlib>=3.0.0 in /usr/local/lib/python3.10/dist-packages (from requests-oauthlib>=0.7.0->google-auth-oauthlib<2,>=0.5->tensorboard<2.16,>=2.15->tensorflow) (3.2.2)\n"
          ]
        }
      ]
    },
    {
      "cell_type": "code",
      "source": [
        "!pip install --upgrade pip"
      ],
      "metadata": {
        "colab": {
          "base_uri": "https://localhost:8080/"
        },
        "id": "8sQXwMV8Nc-u",
        "outputId": "fc0f24c2-ae1b-4f57-ca68-7a5c67edf136"
      },
      "execution_count": null,
      "outputs": [
        {
          "output_type": "stream",
          "name": "stdout",
          "text": [
            "Requirement already satisfied: pip in /usr/local/lib/python3.10/dist-packages (23.1.2)\n",
            "Collecting pip\n",
            "  Downloading pip-24.0-py3-none-any.whl (2.1 MB)\n",
            "\u001b[2K     \u001b[90m━━━━━━━━━━━━━━━━━━━━━━━━━━━━━━━━━━━━━━━━\u001b[0m \u001b[32m2.1/2.1 MB\u001b[0m \u001b[31m22.8 MB/s\u001b[0m eta \u001b[36m0:00:00\u001b[0m\n",
            "\u001b[?25hInstalling collected packages: pip\n",
            "  Attempting uninstall: pip\n",
            "    Found existing installation: pip 23.1.2\n",
            "    Uninstalling pip-23.1.2:\n",
            "      Successfully uninstalled pip-23.1.2\n",
            "Successfully installed pip-24.0\n"
          ]
        }
      ]
    },
    {
      "cell_type": "code",
      "source": [
        "import tensorflow as tf"
      ],
      "metadata": {
        "id": "IrbIYbj_Sb2j"
      },
      "execution_count": null,
      "outputs": []
    },
    {
      "cell_type": "code",
      "source": [
        "print(tf.__version__)"
      ],
      "metadata": {
        "colab": {
          "base_uri": "https://localhost:8080/"
        },
        "id": "Q9_xxTjXSh-z",
        "outputId": "acbe49be-2621-4912-f4f3-de0e7a000902"
      },
      "execution_count": null,
      "outputs": [
        {
          "output_type": "stream",
          "name": "stdout",
          "text": [
            "2.15.0\n"
          ]
        }
      ]
    },
    {
      "cell_type": "code",
      "source": [
        "import numpy as np\n",
        "import pandas as pd\n",
        "import matplotlib.pyplot as plt"
      ],
      "metadata": {
        "id": "DOu3jHshSuNd"
      },
      "execution_count": null,
      "outputs": []
    },
    {
      "cell_type": "markdown",
      "source": [
        "# ***Etapa II: Importarea setului de date din kaggle pe Colab***"
      ],
      "metadata": {
        "id": "GS_PmsruWpCQ"
      }
    },
    {
      "cell_type": "code",
      "source": [
        "#install kaggle API\n",
        "! pip install kaggle"
      ],
      "metadata": {
        "colab": {
          "base_uri": "https://localhost:8080/"
        },
        "id": "idakbQRwWxYx",
        "outputId": "8f7f15fb-f14e-418d-8b59-22a93c626b4b"
      },
      "execution_count": null,
      "outputs": [
        {
          "output_type": "stream",
          "name": "stdout",
          "text": [
            "Requirement already satisfied: kaggle in /usr/local/lib/python3.10/dist-packages (1.6.12)\n",
            "Requirement already satisfied: six>=1.10 in /usr/local/lib/python3.10/dist-packages (from kaggle) (1.16.0)\n",
            "Requirement already satisfied: certifi>=2023.7.22 in /usr/local/lib/python3.10/dist-packages (from kaggle) (2024.2.2)\n",
            "Requirement already satisfied: python-dateutil in /usr/local/lib/python3.10/dist-packages (from kaggle) (2.8.2)\n",
            "Requirement already satisfied: requests in /usr/local/lib/python3.10/dist-packages (from kaggle) (2.31.0)\n",
            "Requirement already satisfied: tqdm in /usr/local/lib/python3.10/dist-packages (from kaggle) (4.66.4)\n",
            "Requirement already satisfied: python-slugify in /usr/local/lib/python3.10/dist-packages (from kaggle) (8.0.4)\n",
            "Requirement already satisfied: urllib3 in /usr/local/lib/python3.10/dist-packages (from kaggle) (2.0.7)\n",
            "Requirement already satisfied: bleach in /usr/local/lib/python3.10/dist-packages (from kaggle) (6.1.0)\n",
            "Requirement already satisfied: webencodings in /usr/local/lib/python3.10/dist-packages (from bleach->kaggle) (0.5.1)\n",
            "Requirement already satisfied: text-unidecode>=1.3 in /usr/local/lib/python3.10/dist-packages (from python-slugify->kaggle) (1.3)\n",
            "Requirement already satisfied: charset-normalizer<4,>=2 in /usr/local/lib/python3.10/dist-packages (from requests->kaggle) (3.3.2)\n",
            "Requirement already satisfied: idna<4,>=2.5 in /usr/local/lib/python3.10/dist-packages (from requests->kaggle) (3.7)\n"
          ]
        }
      ]
    },
    {
      "cell_type": "code",
      "source": [
        "#create a directory as kaggle\n",
        "! mkdir -p ~/.kaggle"
      ],
      "metadata": {
        "id": "BYfkadFHXZOo"
      },
      "execution_count": null,
      "outputs": []
    },
    {
      "cell_type": "code",
      "source": [
        "#import kaggle API\n",
        "from google.colab import files\n",
        "uploaded = files.upload()"
      ],
      "metadata": {
        "colab": {
          "base_uri": "https://localhost:8080/",
          "height": 74
        },
        "id": "6b0I-yQRXlnN",
        "outputId": "f1f7755d-3dce-45f6-ac67-9d2704e7ee72"
      },
      "execution_count": null,
      "outputs": [
        {
          "output_type": "display_data",
          "data": {
            "text/plain": [
              "<IPython.core.display.HTML object>"
            ],
            "text/html": [
              "\n",
              "     <input type=\"file\" id=\"files-23eef3de-e260-4c5f-9a7d-7ebcf4dbdc32\" name=\"files[]\" multiple disabled\n",
              "        style=\"border:none\" />\n",
              "     <output id=\"result-23eef3de-e260-4c5f-9a7d-7ebcf4dbdc32\">\n",
              "      Upload widget is only available when the cell has been executed in the\n",
              "      current browser session. Please rerun this cell to enable.\n",
              "      </output>\n",
              "      <script>// Copyright 2017 Google LLC\n",
              "//\n",
              "// Licensed under the Apache License, Version 2.0 (the \"License\");\n",
              "// you may not use this file except in compliance with the License.\n",
              "// You may obtain a copy of the License at\n",
              "//\n",
              "//      http://www.apache.org/licenses/LICENSE-2.0\n",
              "//\n",
              "// Unless required by applicable law or agreed to in writing, software\n",
              "// distributed under the License is distributed on an \"AS IS\" BASIS,\n",
              "// WITHOUT WARRANTIES OR CONDITIONS OF ANY KIND, either express or implied.\n",
              "// See the License for the specific language governing permissions and\n",
              "// limitations under the License.\n",
              "\n",
              "/**\n",
              " * @fileoverview Helpers for google.colab Python module.\n",
              " */\n",
              "(function(scope) {\n",
              "function span(text, styleAttributes = {}) {\n",
              "  const element = document.createElement('span');\n",
              "  element.textContent = text;\n",
              "  for (const key of Object.keys(styleAttributes)) {\n",
              "    element.style[key] = styleAttributes[key];\n",
              "  }\n",
              "  return element;\n",
              "}\n",
              "\n",
              "// Max number of bytes which will be uploaded at a time.\n",
              "const MAX_PAYLOAD_SIZE = 100 * 1024;\n",
              "\n",
              "function _uploadFiles(inputId, outputId) {\n",
              "  const steps = uploadFilesStep(inputId, outputId);\n",
              "  const outputElement = document.getElementById(outputId);\n",
              "  // Cache steps on the outputElement to make it available for the next call\n",
              "  // to uploadFilesContinue from Python.\n",
              "  outputElement.steps = steps;\n",
              "\n",
              "  return _uploadFilesContinue(outputId);\n",
              "}\n",
              "\n",
              "// This is roughly an async generator (not supported in the browser yet),\n",
              "// where there are multiple asynchronous steps and the Python side is going\n",
              "// to poll for completion of each step.\n",
              "// This uses a Promise to block the python side on completion of each step,\n",
              "// then passes the result of the previous step as the input to the next step.\n",
              "function _uploadFilesContinue(outputId) {\n",
              "  const outputElement = document.getElementById(outputId);\n",
              "  const steps = outputElement.steps;\n",
              "\n",
              "  const next = steps.next(outputElement.lastPromiseValue);\n",
              "  return Promise.resolve(next.value.promise).then((value) => {\n",
              "    // Cache the last promise value to make it available to the next\n",
              "    // step of the generator.\n",
              "    outputElement.lastPromiseValue = value;\n",
              "    return next.value.response;\n",
              "  });\n",
              "}\n",
              "\n",
              "/**\n",
              " * Generator function which is called between each async step of the upload\n",
              " * process.\n",
              " * @param {string} inputId Element ID of the input file picker element.\n",
              " * @param {string} outputId Element ID of the output display.\n",
              " * @return {!Iterable<!Object>} Iterable of next steps.\n",
              " */\n",
              "function* uploadFilesStep(inputId, outputId) {\n",
              "  const inputElement = document.getElementById(inputId);\n",
              "  inputElement.disabled = false;\n",
              "\n",
              "  const outputElement = document.getElementById(outputId);\n",
              "  outputElement.innerHTML = '';\n",
              "\n",
              "  const pickedPromise = new Promise((resolve) => {\n",
              "    inputElement.addEventListener('change', (e) => {\n",
              "      resolve(e.target.files);\n",
              "    });\n",
              "  });\n",
              "\n",
              "  const cancel = document.createElement('button');\n",
              "  inputElement.parentElement.appendChild(cancel);\n",
              "  cancel.textContent = 'Cancel upload';\n",
              "  const cancelPromise = new Promise((resolve) => {\n",
              "    cancel.onclick = () => {\n",
              "      resolve(null);\n",
              "    };\n",
              "  });\n",
              "\n",
              "  // Wait for the user to pick the files.\n",
              "  const files = yield {\n",
              "    promise: Promise.race([pickedPromise, cancelPromise]),\n",
              "    response: {\n",
              "      action: 'starting',\n",
              "    }\n",
              "  };\n",
              "\n",
              "  cancel.remove();\n",
              "\n",
              "  // Disable the input element since further picks are not allowed.\n",
              "  inputElement.disabled = true;\n",
              "\n",
              "  if (!files) {\n",
              "    return {\n",
              "      response: {\n",
              "        action: 'complete',\n",
              "      }\n",
              "    };\n",
              "  }\n",
              "\n",
              "  for (const file of files) {\n",
              "    const li = document.createElement('li');\n",
              "    li.append(span(file.name, {fontWeight: 'bold'}));\n",
              "    li.append(span(\n",
              "        `(${file.type || 'n/a'}) - ${file.size} bytes, ` +\n",
              "        `last modified: ${\n",
              "            file.lastModifiedDate ? file.lastModifiedDate.toLocaleDateString() :\n",
              "                                    'n/a'} - `));\n",
              "    const percent = span('0% done');\n",
              "    li.appendChild(percent);\n",
              "\n",
              "    outputElement.appendChild(li);\n",
              "\n",
              "    const fileDataPromise = new Promise((resolve) => {\n",
              "      const reader = new FileReader();\n",
              "      reader.onload = (e) => {\n",
              "        resolve(e.target.result);\n",
              "      };\n",
              "      reader.readAsArrayBuffer(file);\n",
              "    });\n",
              "    // Wait for the data to be ready.\n",
              "    let fileData = yield {\n",
              "      promise: fileDataPromise,\n",
              "      response: {\n",
              "        action: 'continue',\n",
              "      }\n",
              "    };\n",
              "\n",
              "    // Use a chunked sending to avoid message size limits. See b/62115660.\n",
              "    let position = 0;\n",
              "    do {\n",
              "      const length = Math.min(fileData.byteLength - position, MAX_PAYLOAD_SIZE);\n",
              "      const chunk = new Uint8Array(fileData, position, length);\n",
              "      position += length;\n",
              "\n",
              "      const base64 = btoa(String.fromCharCode.apply(null, chunk));\n",
              "      yield {\n",
              "        response: {\n",
              "          action: 'append',\n",
              "          file: file.name,\n",
              "          data: base64,\n",
              "        },\n",
              "      };\n",
              "\n",
              "      let percentDone = fileData.byteLength === 0 ?\n",
              "          100 :\n",
              "          Math.round((position / fileData.byteLength) * 100);\n",
              "      percent.textContent = `${percentDone}% done`;\n",
              "\n",
              "    } while (position < fileData.byteLength);\n",
              "  }\n",
              "\n",
              "  // All done.\n",
              "  yield {\n",
              "    response: {\n",
              "      action: 'complete',\n",
              "    }\n",
              "  };\n",
              "}\n",
              "\n",
              "scope.google = scope.google || {};\n",
              "scope.google.colab = scope.google.colab || {};\n",
              "scope.google.colab._files = {\n",
              "  _uploadFiles,\n",
              "  _uploadFilesContinue,\n",
              "};\n",
              "})(self);\n",
              "</script> "
            ]
          },
          "metadata": {}
        },
        {
          "output_type": "stream",
          "name": "stdout",
          "text": [
            "Saving kaggle.json to kaggle.json\n"
          ]
        }
      ]
    },
    {
      "cell_type": "code",
      "source": [
        "# copy API key to kaggle directory\n",
        "! cp kaggle.json ~/.kaggle"
      ],
      "metadata": {
        "id": "weZJx1arX9TB"
      },
      "execution_count": null,
      "outputs": []
    },
    {
      "cell_type": "code",
      "source": [
        "# disable the API key\n",
        "! chmod 600 /root/.kaggle/kaggle.json"
      ],
      "metadata": {
        "id": "317F2vWrYJ2x"
      },
      "execution_count": null,
      "outputs": []
    },
    {
      "cell_type": "code",
      "source": [
        "# list of datasets\n",
        "! kaggle datasets list"
      ],
      "metadata": {
        "colab": {
          "base_uri": "https://localhost:8080/"
        },
        "id": "2qIYY0vpYcMY",
        "outputId": "5d921386-3ef3-4c36-d119-a24f64a3338c"
      },
      "execution_count": null,
      "outputs": [
        {
          "output_type": "stream",
          "name": "stdout",
          "text": [
            "Warning: Looks like you're using an outdated API Version, please consider updating (server 1.6.11 / client 1.5.16)\n",
            "ref                                                         title                                           size  lastUpdated          downloadCount  voteCount  usabilityRating  \n",
            "----------------------------------------------------------  ---------------------------------------------  -----  -------------------  -------------  ---------  ---------------  \n",
            "sudarshan24byte/online-food-dataset                         Online Food Dataset                              3KB  2024-03-02 18:50:30          24280        484  0.9411765        \n",
            "bhavikjikadara/student-study-performance                    Student Study Performance                        9KB  2024-03-07 06:14:09          12011        154  1.0              \n",
            "sukhmandeepsinghbrar/housing-price-dataset                  Housing Price Dataset                          780KB  2024-04-04 19:45:43           1445         28  1.0              \n",
            "muhammadkashif724/netflix-tv-shows-2021                     Netflix TV Shows 2021                          384KB  2024-04-04 06:38:21           1292         33  0.9411765        \n",
            "sahilnbajaj/loans-data                                      Loans Data                                     213KB  2024-04-07 15:08:37            970         26  1.0              \n",
            "sahirmaharajj/air-pollution-dataset                         Air Pollution Dataset                          213KB  2024-04-07 13:14:48           1081         31  1.0              \n",
            "nbroad/gemma-rewrite-nbroad                                 gemma-rewrite-nbroad                             8MB  2024-03-03 04:52:39           1532         98  1.0              \n",
            "mohdshahnawazaadil/credit-card-dataset                      Credit Card Dataset                             66MB  2024-04-02 00:04:05            793         22  1.0              \n",
            "fatemehmehrparvar/obesity-levels                            Obesity Levels                                  58KB  2024-04-07 16:28:30           1207         36  0.88235295       \n",
            "sanyamgoyal401/customer-purchases-behaviour-dataset         Customer Purchases Behaviour Dataset             1MB  2024-04-06 18:42:01           1218         32  1.0              \n",
            "muhammadibrahimqasmi/stock-prices-for-meta-ticker-symbol    Stock Prices for META Ticker Symbol             11KB  2024-04-09 17:24:08            274         28  1.0              \n",
            "sahirmaharajj/electric-vehicle-population-size-2024         Electric Vehicle Population by Country (2024)  275KB  2024-03-30 19:16:06           2027         50  1.0              \n",
            "jatinthakur706/population-growth-in-india-1950-2024         Population Growth in India 1950-2024             1KB  2024-04-05 07:06:32            333         21  1.0              \n",
            "mexwell/drug-consumption-classification                     💊 Drug Consumption Classification               56KB  2024-03-28 15:02:22           2328         43  1.0              \n",
            "startalks/pii-models                                        pii-models                                       1GB  2024-03-21 21:23:40             95         17  1.0              \n",
            "sahirmaharajj/retail-sales-analysis                         Retail Sales Analysis                            6MB  2024-03-31 15:37:11           1636         37  1.0              \n",
            "jatinthakur706/most-watched-netflix-original-shows-tv-time  Most watched Netflix original shows (TV Time)    2KB  2024-03-27 09:01:21           2777         47  1.0              \n",
            "alistairking/electricity-prices                             U.S. Electricity Prices                          1MB  2024-04-07 19:18:37            799         23  1.0              \n",
            "tanmay43sharma/goodreads-popular-books-dataset              Popular Books Dataset                          130KB  2024-03-28 09:44:18           1101         25  0.9411765        \n",
            "datascientist97/e-commerece-sales-data-2024                 E-commerece Sales Data 2024                      6MB  2024-04-05 12:32:58            954         28  1.0              \n"
          ]
        }
      ]
    },
    {
      "cell_type": "code",
      "source": [
        "# import the dataset\n",
        "! kaggle datasets download -d mlg-ulb/creditcardfraud\n"
      ],
      "metadata": {
        "colab": {
          "base_uri": "https://localhost:8080/"
        },
        "id": "adCh-TymYnnn",
        "outputId": "80fc6bb9-a8a1-42ce-dc66-d1ba21cd416d"
      },
      "execution_count": null,
      "outputs": [
        {
          "output_type": "stream",
          "name": "stdout",
          "text": [
            "Warning: Looks like you're using an outdated API Version, please consider updating (server 1.6.14 / client 1.6.12)\n",
            "Dataset URL: https://www.kaggle.com/datasets/mlg-ulb/creditcardfraud\n",
            "License(s): DbCL-1.0\n",
            "Downloading creditcardfraud.zip to /content\n",
            " 88% 58.0M/66.0M [00:00<00:00, 216MB/s]\n",
            "100% 66.0M/66.0M [00:00<00:00, 204MB/s]\n"
          ]
        }
      ]
    },
    {
      "cell_type": "code",
      "source": [
        "# unzip dataset\n",
        "! unzip /content/creditcardfraud.zip"
      ],
      "metadata": {
        "colab": {
          "base_uri": "https://localhost:8080/"
        },
        "id": "V3JzatZ7Zyhi",
        "outputId": "619d2df2-954a-4f2a-db3d-cd98a3eeba5a"
      },
      "execution_count": null,
      "outputs": [
        {
          "output_type": "stream",
          "name": "stdout",
          "text": [
            "Archive:  /content/creditcardfraud.zip\n",
            "  inflating: creditcard.csv          \n"
          ]
        }
      ]
    },
    {
      "cell_type": "code",
      "source": [
        "dataset_1 = pd.read_csv('/content/creditcard.csv')"
      ],
      "metadata": {
        "id": "skXuEybQaGjt"
      },
      "execution_count": null,
      "outputs": []
    },
    {
      "cell_type": "code",
      "source": [
        "dataset_1.head()"
      ],
      "metadata": {
        "colab": {
          "base_uri": "https://localhost:8080/",
          "height": 255
        },
        "id": "ZK2AF4d6aWNR",
        "outputId": "da308cef-f305-4aa4-ac49-1a2745c9020c"
      },
      "execution_count": null,
      "outputs": [
        {
          "output_type": "execute_result",
          "data": {
            "text/plain": [
              "   Time        V1        V2        V3        V4        V5        V6        V7  \\\n",
              "0   0.0 -1.359807 -0.072781  2.536347  1.378155 -0.338321  0.462388  0.239599   \n",
              "1   0.0  1.191857  0.266151  0.166480  0.448154  0.060018 -0.082361 -0.078803   \n",
              "2   1.0 -1.358354 -1.340163  1.773209  0.379780 -0.503198  1.800499  0.791461   \n",
              "3   1.0 -0.966272 -0.185226  1.792993 -0.863291 -0.010309  1.247203  0.237609   \n",
              "4   2.0 -1.158233  0.877737  1.548718  0.403034 -0.407193  0.095921  0.592941   \n",
              "\n",
              "         V8        V9  ...       V21       V22       V23       V24       V25  \\\n",
              "0  0.098698  0.363787  ... -0.018307  0.277838 -0.110474  0.066928  0.128539   \n",
              "1  0.085102 -0.255425  ... -0.225775 -0.638672  0.101288 -0.339846  0.167170   \n",
              "2  0.247676 -1.514654  ...  0.247998  0.771679  0.909412 -0.689281 -0.327642   \n",
              "3  0.377436 -1.387024  ... -0.108300  0.005274 -0.190321 -1.175575  0.647376   \n",
              "4 -0.270533  0.817739  ... -0.009431  0.798278 -0.137458  0.141267 -0.206010   \n",
              "\n",
              "        V26       V27       V28  Amount  Class  \n",
              "0 -0.189115  0.133558 -0.021053  149.62      0  \n",
              "1  0.125895 -0.008983  0.014724    2.69      0  \n",
              "2 -0.139097 -0.055353 -0.059752  378.66      0  \n",
              "3 -0.221929  0.062723  0.061458  123.50      0  \n",
              "4  0.502292  0.219422  0.215153   69.99      0  \n",
              "\n",
              "[5 rows x 31 columns]"
            ],
            "text/html": [
              "\n",
              "  <div id=\"df-956cbda4-14df-4ea2-8bdd-4610ab3bc2e4\" class=\"colab-df-container\">\n",
              "    <div>\n",
              "<style scoped>\n",
              "    .dataframe tbody tr th:only-of-type {\n",
              "        vertical-align: middle;\n",
              "    }\n",
              "\n",
              "    .dataframe tbody tr th {\n",
              "        vertical-align: top;\n",
              "    }\n",
              "\n",
              "    .dataframe thead th {\n",
              "        text-align: right;\n",
              "    }\n",
              "</style>\n",
              "<table border=\"1\" class=\"dataframe\">\n",
              "  <thead>\n",
              "    <tr style=\"text-align: right;\">\n",
              "      <th></th>\n",
              "      <th>Time</th>\n",
              "      <th>V1</th>\n",
              "      <th>V2</th>\n",
              "      <th>V3</th>\n",
              "      <th>V4</th>\n",
              "      <th>V5</th>\n",
              "      <th>V6</th>\n",
              "      <th>V7</th>\n",
              "      <th>V8</th>\n",
              "      <th>V9</th>\n",
              "      <th>...</th>\n",
              "      <th>V21</th>\n",
              "      <th>V22</th>\n",
              "      <th>V23</th>\n",
              "      <th>V24</th>\n",
              "      <th>V25</th>\n",
              "      <th>V26</th>\n",
              "      <th>V27</th>\n",
              "      <th>V28</th>\n",
              "      <th>Amount</th>\n",
              "      <th>Class</th>\n",
              "    </tr>\n",
              "  </thead>\n",
              "  <tbody>\n",
              "    <tr>\n",
              "      <th>0</th>\n",
              "      <td>0.0</td>\n",
              "      <td>-1.359807</td>\n",
              "      <td>-0.072781</td>\n",
              "      <td>2.536347</td>\n",
              "      <td>1.378155</td>\n",
              "      <td>-0.338321</td>\n",
              "      <td>0.462388</td>\n",
              "      <td>0.239599</td>\n",
              "      <td>0.098698</td>\n",
              "      <td>0.363787</td>\n",
              "      <td>...</td>\n",
              "      <td>-0.018307</td>\n",
              "      <td>0.277838</td>\n",
              "      <td>-0.110474</td>\n",
              "      <td>0.066928</td>\n",
              "      <td>0.128539</td>\n",
              "      <td>-0.189115</td>\n",
              "      <td>0.133558</td>\n",
              "      <td>-0.021053</td>\n",
              "      <td>149.62</td>\n",
              "      <td>0</td>\n",
              "    </tr>\n",
              "    <tr>\n",
              "      <th>1</th>\n",
              "      <td>0.0</td>\n",
              "      <td>1.191857</td>\n",
              "      <td>0.266151</td>\n",
              "      <td>0.166480</td>\n",
              "      <td>0.448154</td>\n",
              "      <td>0.060018</td>\n",
              "      <td>-0.082361</td>\n",
              "      <td>-0.078803</td>\n",
              "      <td>0.085102</td>\n",
              "      <td>-0.255425</td>\n",
              "      <td>...</td>\n",
              "      <td>-0.225775</td>\n",
              "      <td>-0.638672</td>\n",
              "      <td>0.101288</td>\n",
              "      <td>-0.339846</td>\n",
              "      <td>0.167170</td>\n",
              "      <td>0.125895</td>\n",
              "      <td>-0.008983</td>\n",
              "      <td>0.014724</td>\n",
              "      <td>2.69</td>\n",
              "      <td>0</td>\n",
              "    </tr>\n",
              "    <tr>\n",
              "      <th>2</th>\n",
              "      <td>1.0</td>\n",
              "      <td>-1.358354</td>\n",
              "      <td>-1.340163</td>\n",
              "      <td>1.773209</td>\n",
              "      <td>0.379780</td>\n",
              "      <td>-0.503198</td>\n",
              "      <td>1.800499</td>\n",
              "      <td>0.791461</td>\n",
              "      <td>0.247676</td>\n",
              "      <td>-1.514654</td>\n",
              "      <td>...</td>\n",
              "      <td>0.247998</td>\n",
              "      <td>0.771679</td>\n",
              "      <td>0.909412</td>\n",
              "      <td>-0.689281</td>\n",
              "      <td>-0.327642</td>\n",
              "      <td>-0.139097</td>\n",
              "      <td>-0.055353</td>\n",
              "      <td>-0.059752</td>\n",
              "      <td>378.66</td>\n",
              "      <td>0</td>\n",
              "    </tr>\n",
              "    <tr>\n",
              "      <th>3</th>\n",
              "      <td>1.0</td>\n",
              "      <td>-0.966272</td>\n",
              "      <td>-0.185226</td>\n",
              "      <td>1.792993</td>\n",
              "      <td>-0.863291</td>\n",
              "      <td>-0.010309</td>\n",
              "      <td>1.247203</td>\n",
              "      <td>0.237609</td>\n",
              "      <td>0.377436</td>\n",
              "      <td>-1.387024</td>\n",
              "      <td>...</td>\n",
              "      <td>-0.108300</td>\n",
              "      <td>0.005274</td>\n",
              "      <td>-0.190321</td>\n",
              "      <td>-1.175575</td>\n",
              "      <td>0.647376</td>\n",
              "      <td>-0.221929</td>\n",
              "      <td>0.062723</td>\n",
              "      <td>0.061458</td>\n",
              "      <td>123.50</td>\n",
              "      <td>0</td>\n",
              "    </tr>\n",
              "    <tr>\n",
              "      <th>4</th>\n",
              "      <td>2.0</td>\n",
              "      <td>-1.158233</td>\n",
              "      <td>0.877737</td>\n",
              "      <td>1.548718</td>\n",
              "      <td>0.403034</td>\n",
              "      <td>-0.407193</td>\n",
              "      <td>0.095921</td>\n",
              "      <td>0.592941</td>\n",
              "      <td>-0.270533</td>\n",
              "      <td>0.817739</td>\n",
              "      <td>...</td>\n",
              "      <td>-0.009431</td>\n",
              "      <td>0.798278</td>\n",
              "      <td>-0.137458</td>\n",
              "      <td>0.141267</td>\n",
              "      <td>-0.206010</td>\n",
              "      <td>0.502292</td>\n",
              "      <td>0.219422</td>\n",
              "      <td>0.215153</td>\n",
              "      <td>69.99</td>\n",
              "      <td>0</td>\n",
              "    </tr>\n",
              "  </tbody>\n",
              "</table>\n",
              "<p>5 rows × 31 columns</p>\n",
              "</div>\n",
              "    <div class=\"colab-df-buttons\">\n",
              "\n",
              "  <div class=\"colab-df-container\">\n",
              "    <button class=\"colab-df-convert\" onclick=\"convertToInteractive('df-956cbda4-14df-4ea2-8bdd-4610ab3bc2e4')\"\n",
              "            title=\"Convert this dataframe to an interactive table.\"\n",
              "            style=\"display:none;\">\n",
              "\n",
              "  <svg xmlns=\"http://www.w3.org/2000/svg\" height=\"24px\" viewBox=\"0 -960 960 960\">\n",
              "    <path d=\"M120-120v-720h720v720H120Zm60-500h600v-160H180v160Zm220 220h160v-160H400v160Zm0 220h160v-160H400v160ZM180-400h160v-160H180v160Zm440 0h160v-160H620v160ZM180-180h160v-160H180v160Zm440 0h160v-160H620v160Z\"/>\n",
              "  </svg>\n",
              "    </button>\n",
              "\n",
              "  <style>\n",
              "    .colab-df-container {\n",
              "      display:flex;\n",
              "      gap: 12px;\n",
              "    }\n",
              "\n",
              "    .colab-df-convert {\n",
              "      background-color: #E8F0FE;\n",
              "      border: none;\n",
              "      border-radius: 50%;\n",
              "      cursor: pointer;\n",
              "      display: none;\n",
              "      fill: #1967D2;\n",
              "      height: 32px;\n",
              "      padding: 0 0 0 0;\n",
              "      width: 32px;\n",
              "    }\n",
              "\n",
              "    .colab-df-convert:hover {\n",
              "      background-color: #E2EBFA;\n",
              "      box-shadow: 0px 1px 2px rgba(60, 64, 67, 0.3), 0px 1px 3px 1px rgba(60, 64, 67, 0.15);\n",
              "      fill: #174EA6;\n",
              "    }\n",
              "\n",
              "    .colab-df-buttons div {\n",
              "      margin-bottom: 4px;\n",
              "    }\n",
              "\n",
              "    [theme=dark] .colab-df-convert {\n",
              "      background-color: #3B4455;\n",
              "      fill: #D2E3FC;\n",
              "    }\n",
              "\n",
              "    [theme=dark] .colab-df-convert:hover {\n",
              "      background-color: #434B5C;\n",
              "      box-shadow: 0px 1px 3px 1px rgba(0, 0, 0, 0.15);\n",
              "      filter: drop-shadow(0px 1px 2px rgba(0, 0, 0, 0.3));\n",
              "      fill: #FFFFFF;\n",
              "    }\n",
              "  </style>\n",
              "\n",
              "    <script>\n",
              "      const buttonEl =\n",
              "        document.querySelector('#df-956cbda4-14df-4ea2-8bdd-4610ab3bc2e4 button.colab-df-convert');\n",
              "      buttonEl.style.display =\n",
              "        google.colab.kernel.accessAllowed ? 'block' : 'none';\n",
              "\n",
              "      async function convertToInteractive(key) {\n",
              "        const element = document.querySelector('#df-956cbda4-14df-4ea2-8bdd-4610ab3bc2e4');\n",
              "        const dataTable =\n",
              "          await google.colab.kernel.invokeFunction('convertToInteractive',\n",
              "                                                    [key], {});\n",
              "        if (!dataTable) return;\n",
              "\n",
              "        const docLinkHtml = 'Like what you see? Visit the ' +\n",
              "          '<a target=\"_blank\" href=https://colab.research.google.com/notebooks/data_table.ipynb>data table notebook</a>'\n",
              "          + ' to learn more about interactive tables.';\n",
              "        element.innerHTML = '';\n",
              "        dataTable['output_type'] = 'display_data';\n",
              "        await google.colab.output.renderOutput(dataTable, element);\n",
              "        const docLink = document.createElement('div');\n",
              "        docLink.innerHTML = docLinkHtml;\n",
              "        element.appendChild(docLink);\n",
              "      }\n",
              "    </script>\n",
              "  </div>\n",
              "\n",
              "\n",
              "<div id=\"df-2bb7958f-a973-4d27-ae5d-671d84821b02\">\n",
              "  <button class=\"colab-df-quickchart\" onclick=\"quickchart('df-2bb7958f-a973-4d27-ae5d-671d84821b02')\"\n",
              "            title=\"Suggest charts\"\n",
              "            style=\"display:none;\">\n",
              "\n",
              "<svg xmlns=\"http://www.w3.org/2000/svg\" height=\"24px\"viewBox=\"0 0 24 24\"\n",
              "     width=\"24px\">\n",
              "    <g>\n",
              "        <path d=\"M19 3H5c-1.1 0-2 .9-2 2v14c0 1.1.9 2 2 2h14c1.1 0 2-.9 2-2V5c0-1.1-.9-2-2-2zM9 17H7v-7h2v7zm4 0h-2V7h2v10zm4 0h-2v-4h2v4z\"/>\n",
              "    </g>\n",
              "</svg>\n",
              "  </button>\n",
              "\n",
              "<style>\n",
              "  .colab-df-quickchart {\n",
              "      --bg-color: #E8F0FE;\n",
              "      --fill-color: #1967D2;\n",
              "      --hover-bg-color: #E2EBFA;\n",
              "      --hover-fill-color: #174EA6;\n",
              "      --disabled-fill-color: #AAA;\n",
              "      --disabled-bg-color: #DDD;\n",
              "  }\n",
              "\n",
              "  [theme=dark] .colab-df-quickchart {\n",
              "      --bg-color: #3B4455;\n",
              "      --fill-color: #D2E3FC;\n",
              "      --hover-bg-color: #434B5C;\n",
              "      --hover-fill-color: #FFFFFF;\n",
              "      --disabled-bg-color: #3B4455;\n",
              "      --disabled-fill-color: #666;\n",
              "  }\n",
              "\n",
              "  .colab-df-quickchart {\n",
              "    background-color: var(--bg-color);\n",
              "    border: none;\n",
              "    border-radius: 50%;\n",
              "    cursor: pointer;\n",
              "    display: none;\n",
              "    fill: var(--fill-color);\n",
              "    height: 32px;\n",
              "    padding: 0;\n",
              "    width: 32px;\n",
              "  }\n",
              "\n",
              "  .colab-df-quickchart:hover {\n",
              "    background-color: var(--hover-bg-color);\n",
              "    box-shadow: 0 1px 2px rgba(60, 64, 67, 0.3), 0 1px 3px 1px rgba(60, 64, 67, 0.15);\n",
              "    fill: var(--button-hover-fill-color);\n",
              "  }\n",
              "\n",
              "  .colab-df-quickchart-complete:disabled,\n",
              "  .colab-df-quickchart-complete:disabled:hover {\n",
              "    background-color: var(--disabled-bg-color);\n",
              "    fill: var(--disabled-fill-color);\n",
              "    box-shadow: none;\n",
              "  }\n",
              "\n",
              "  .colab-df-spinner {\n",
              "    border: 2px solid var(--fill-color);\n",
              "    border-color: transparent;\n",
              "    border-bottom-color: var(--fill-color);\n",
              "    animation:\n",
              "      spin 1s steps(1) infinite;\n",
              "  }\n",
              "\n",
              "  @keyframes spin {\n",
              "    0% {\n",
              "      border-color: transparent;\n",
              "      border-bottom-color: var(--fill-color);\n",
              "      border-left-color: var(--fill-color);\n",
              "    }\n",
              "    20% {\n",
              "      border-color: transparent;\n",
              "      border-left-color: var(--fill-color);\n",
              "      border-top-color: var(--fill-color);\n",
              "    }\n",
              "    30% {\n",
              "      border-color: transparent;\n",
              "      border-left-color: var(--fill-color);\n",
              "      border-top-color: var(--fill-color);\n",
              "      border-right-color: var(--fill-color);\n",
              "    }\n",
              "    40% {\n",
              "      border-color: transparent;\n",
              "      border-right-color: var(--fill-color);\n",
              "      border-top-color: var(--fill-color);\n",
              "    }\n",
              "    60% {\n",
              "      border-color: transparent;\n",
              "      border-right-color: var(--fill-color);\n",
              "    }\n",
              "    80% {\n",
              "      border-color: transparent;\n",
              "      border-right-color: var(--fill-color);\n",
              "      border-bottom-color: var(--fill-color);\n",
              "    }\n",
              "    90% {\n",
              "      border-color: transparent;\n",
              "      border-bottom-color: var(--fill-color);\n",
              "    }\n",
              "  }\n",
              "</style>\n",
              "\n",
              "  <script>\n",
              "    async function quickchart(key) {\n",
              "      const quickchartButtonEl =\n",
              "        document.querySelector('#' + key + ' button');\n",
              "      quickchartButtonEl.disabled = true;  // To prevent multiple clicks.\n",
              "      quickchartButtonEl.classList.add('colab-df-spinner');\n",
              "      try {\n",
              "        const charts = await google.colab.kernel.invokeFunction(\n",
              "            'suggestCharts', [key], {});\n",
              "      } catch (error) {\n",
              "        console.error('Error during call to suggestCharts:', error);\n",
              "      }\n",
              "      quickchartButtonEl.classList.remove('colab-df-spinner');\n",
              "      quickchartButtonEl.classList.add('colab-df-quickchart-complete');\n",
              "    }\n",
              "    (() => {\n",
              "      let quickchartButtonEl =\n",
              "        document.querySelector('#df-2bb7958f-a973-4d27-ae5d-671d84821b02 button');\n",
              "      quickchartButtonEl.style.display =\n",
              "        google.colab.kernel.accessAllowed ? 'block' : 'none';\n",
              "    })();\n",
              "  </script>\n",
              "</div>\n",
              "    </div>\n",
              "  </div>\n"
            ],
            "application/vnd.google.colaboratory.intrinsic+json": {
              "type": "dataframe",
              "variable_name": "dataset_1"
            }
          },
          "metadata": {},
          "execution_count": 12
        }
      ]
    },
    {
      "cell_type": "markdown",
      "source": [
        "# ***Etapa III: Preprocesarea datelor***"
      ],
      "metadata": {
        "id": "e17MUjp_0Mp0"
      }
    },
    {
      "cell_type": "code",
      "source": [
        "dataset_1.shape"
      ],
      "metadata": {
        "colab": {
          "base_uri": "https://localhost:8080/"
        },
        "id": "NOU-SOBv0Vke",
        "outputId": "b5e0cf7f-0a4e-4dfb-c761-ad06af4a8988"
      },
      "execution_count": null,
      "outputs": [
        {
          "output_type": "execute_result",
          "data": {
            "text/plain": [
              "(284807, 31)"
            ]
          },
          "metadata": {},
          "execution_count": 13
        }
      ]
    },
    {
      "cell_type": "code",
      "source": [
        "#checking the null values\n",
        "dataset_1.isnull().sum()"
      ],
      "metadata": {
        "colab": {
          "base_uri": "https://localhost:8080/"
        },
        "id": "O7z8KQwZ04eW",
        "outputId": "60905bd3-af55-4625-f0b3-9a3f1aa7b397"
      },
      "execution_count": null,
      "outputs": [
        {
          "output_type": "execute_result",
          "data": {
            "text/plain": [
              "Time      0\n",
              "V1        0\n",
              "V2        0\n",
              "V3        0\n",
              "V4        0\n",
              "V5        0\n",
              "V6        0\n",
              "V7        0\n",
              "V8        0\n",
              "V9        0\n",
              "V10       0\n",
              "V11       0\n",
              "V12       0\n",
              "V13       0\n",
              "V14       0\n",
              "V15       0\n",
              "V16       0\n",
              "V17       0\n",
              "V18       0\n",
              "V19       0\n",
              "V20       0\n",
              "V21       0\n",
              "V22       0\n",
              "V23       0\n",
              "V24       0\n",
              "V25       0\n",
              "V26       0\n",
              "V27       0\n",
              "V28       0\n",
              "Amount    0\n",
              "Class     0\n",
              "dtype: int64"
            ]
          },
          "metadata": {},
          "execution_count": 14
        }
      ]
    },
    {
      "cell_type": "code",
      "source": [
        "dataset_1.info()"
      ],
      "metadata": {
        "colab": {
          "base_uri": "https://localhost:8080/"
        },
        "id": "4lJUlJN71BWV",
        "outputId": "971cf8dc-ca81-4e18-cf8a-97f049657ba4"
      },
      "execution_count": null,
      "outputs": [
        {
          "output_type": "stream",
          "name": "stdout",
          "text": [
            "<class 'pandas.core.frame.DataFrame'>\n",
            "RangeIndex: 284807 entries, 0 to 284806\n",
            "Data columns (total 31 columns):\n",
            " #   Column  Non-Null Count   Dtype  \n",
            "---  ------  --------------   -----  \n",
            " 0   Time    284807 non-null  float64\n",
            " 1   V1      284807 non-null  float64\n",
            " 2   V2      284807 non-null  float64\n",
            " 3   V3      284807 non-null  float64\n",
            " 4   V4      284807 non-null  float64\n",
            " 5   V5      284807 non-null  float64\n",
            " 6   V6      284807 non-null  float64\n",
            " 7   V7      284807 non-null  float64\n",
            " 8   V8      284807 non-null  float64\n",
            " 9   V9      284807 non-null  float64\n",
            " 10  V10     284807 non-null  float64\n",
            " 11  V11     284807 non-null  float64\n",
            " 12  V12     284807 non-null  float64\n",
            " 13  V13     284807 non-null  float64\n",
            " 14  V14     284807 non-null  float64\n",
            " 15  V15     284807 non-null  float64\n",
            " 16  V16     284807 non-null  float64\n",
            " 17  V17     284807 non-null  float64\n",
            " 18  V18     284807 non-null  float64\n",
            " 19  V19     284807 non-null  float64\n",
            " 20  V20     284807 non-null  float64\n",
            " 21  V21     284807 non-null  float64\n",
            " 22  V22     284807 non-null  float64\n",
            " 23  V23     284807 non-null  float64\n",
            " 24  V24     284807 non-null  float64\n",
            " 25  V25     284807 non-null  float64\n",
            " 26  V26     284807 non-null  float64\n",
            " 27  V27     284807 non-null  float64\n",
            " 28  V28     284807 non-null  float64\n",
            " 29  Amount  284807 non-null  float64\n",
            " 30  Class   284807 non-null  int64  \n",
            "dtypes: float64(30), int64(1)\n",
            "memory usage: 67.4 MB\n"
          ]
        }
      ]
    },
    {
      "cell_type": "code",
      "source": [
        "# observation in each class\n",
        "dataset_1['Class'].value_counts()"
      ],
      "metadata": {
        "colab": {
          "base_uri": "https://localhost:8080/"
        },
        "id": "fClJ3zoi1IUG",
        "outputId": "378ba759-84fa-4d54-875e-f4db11cbde8d"
      },
      "execution_count": null,
      "outputs": [
        {
          "output_type": "execute_result",
          "data": {
            "text/plain": [
              "Class\n",
              "0    284315\n",
              "1       492\n",
              "Name: count, dtype: int64"
            ]
          },
          "metadata": {},
          "execution_count": 16
        }
      ]
    },
    {
      "cell_type": "code",
      "source": [
        "# balance the dataset\n",
        "fraud = dataset_1[dataset_1['Class']==1]\n",
        "non_fraud = dataset_1[dataset_1['Class']==0]"
      ],
      "metadata": {
        "id": "NBmsnDnK1bEM"
      },
      "execution_count": null,
      "outputs": []
    },
    {
      "cell_type": "code",
      "source": [
        "fraud.shape, non_fraud.shape"
      ],
      "metadata": {
        "colab": {
          "base_uri": "https://localhost:8080/"
        },
        "id": "B1dtf5Tp10B0",
        "outputId": "f296d7d3-95a8-4338-c49d-b72f7449fc29"
      },
      "execution_count": null,
      "outputs": [
        {
          "output_type": "execute_result",
          "data": {
            "text/plain": [
              "((492, 31), (284315, 31))"
            ]
          },
          "metadata": {},
          "execution_count": 18
        }
      ]
    },
    {
      "cell_type": "code",
      "source": [
        "# random selection of samples\n",
        "non_fraud_t = non_fraud.sample(n=492)"
      ],
      "metadata": {
        "id": "DEVDNwHw4tuN"
      },
      "execution_count": null,
      "outputs": []
    },
    {
      "cell_type": "code",
      "source": [
        "non_fraud_t.shape"
      ],
      "metadata": {
        "colab": {
          "base_uri": "https://localhost:8080/"
        },
        "id": "1HOncWXd5CPX",
        "outputId": "834f725e-7240-4cf0-86a1-4e34efc1c6e1"
      },
      "execution_count": null,
      "outputs": [
        {
          "output_type": "execute_result",
          "data": {
            "text/plain": [
              "(492, 31)"
            ]
          },
          "metadata": {},
          "execution_count": 20
        }
      ]
    },
    {
      "cell_type": "code",
      "source": [
        "# merge dataset\n",
        "dataset = fraud._append(non_fraud_t, ignore_index=True)"
      ],
      "metadata": {
        "id": "Q0ZE1SBH5PNw"
      },
      "execution_count": null,
      "outputs": []
    },
    {
      "cell_type": "code",
      "source": [
        "print(dataset)"
      ],
      "metadata": {
        "colab": {
          "base_uri": "https://localhost:8080/"
        },
        "id": "-NiBNfsp6ij5",
        "outputId": "ef6dc585-2827-41a4-f737-1c3ad0de28f0"
      },
      "execution_count": null,
      "outputs": [
        {
          "output_type": "stream",
          "name": "stdout",
          "text": [
            "         Time        V1        V2        V3        V4        V5        V6  \\\n",
            "0       406.0 -2.312227  1.951992 -1.609851  3.997906 -0.522188 -1.426545   \n",
            "1       472.0 -3.043541 -3.157307  1.088463  2.288644  1.359805 -1.064823   \n",
            "2      4462.0 -2.303350  1.759247 -0.359745  2.330243 -0.821628 -0.075788   \n",
            "3      6986.0 -4.397974  1.358367 -2.592844  2.679787 -1.128131 -1.706536   \n",
            "4      7519.0  1.234235  3.019740 -4.304597  4.732795  3.624201 -1.357746   \n",
            "..        ...       ...       ...       ...       ...       ...       ...   \n",
            "979  158669.0  1.950833 -0.256347 -0.262753  0.425228 -0.539305 -0.433637   \n",
            "980   40366.0 -0.614410 -3.489618 -0.186192  0.073676 -2.230848 -0.471391   \n",
            "981   78282.0  1.276509  0.600085 -0.826024  0.966923  0.658203 -0.265187   \n",
            "982  151533.0  2.111395 -0.121922 -1.369305  0.261088  0.125697 -0.836679   \n",
            "983   72896.0 -3.293563  1.827384  0.342618  0.442482 -0.045807  0.715879   \n",
            "\n",
            "           V7        V8        V9  ...       V21       V22       V23  \\\n",
            "0   -2.537387  1.391657 -2.770089  ...  0.517232 -0.035049 -0.465211   \n",
            "1    0.325574 -0.067794 -0.270953  ...  0.661696  0.435477  1.375966   \n",
            "2    0.562320 -0.399147 -0.238253  ... -0.294166 -0.932391  0.172726   \n",
            "3   -3.496197 -0.248778 -0.247768  ...  0.573574  0.176968 -0.436207   \n",
            "4    1.713445 -0.496358 -1.282858  ... -0.379068 -0.704181 -0.656805   \n",
            "..        ...       ...       ...  ...       ...       ...       ...   \n",
            "979 -0.453670 -0.037932  1.120840  ... -0.144428 -0.270311  0.445004   \n",
            "980  0.632537 -0.255657  1.820427  ...  0.714821  0.124887 -0.975869   \n",
            "981  0.143435  0.010568 -0.179598  ... -0.099731 -0.273850 -0.273194   \n",
            "982  0.117841 -0.247548  0.703761  ... -0.343727 -0.888185  0.264336   \n",
            "983  0.011677 -2.034400  0.723306  ...  1.672504 -0.142017  0.309627   \n",
            "\n",
            "          V24       V25       V26       V27       V28  Amount  Class  \n",
            "0    0.320198  0.044519  0.177840  0.261145 -0.143276    0.00      1  \n",
            "1   -0.293803  0.279798 -0.145362 -0.252773  0.035764  529.00      1  \n",
            "2   -0.087330 -0.156114 -0.542628  0.039566 -0.153029  239.93      1  \n",
            "3   -0.053502  0.252405 -0.657488 -0.827136  0.849573   59.00      1  \n",
            "4   -1.632653  1.488901  0.566797 -0.010016  0.146793    1.00      1  \n",
            "..        ...       ...       ...       ...       ...     ...    ...  \n",
            "979  1.062837 -0.447233 -0.678531  0.038027 -0.017935   12.47      0  \n",
            "980  0.452872  0.254357 -0.631467 -0.090384  0.199484  964.80      0  \n",
            "981 -0.987669  0.796559 -0.270408  0.025971  0.034188    1.00      0  \n",
            "982 -0.675521 -0.231628  0.241384 -0.076500 -0.068661    1.29      0  \n",
            "983 -0.351818 -0.618793 -0.664234 -2.366599 -0.033285   34.95      0  \n",
            "\n",
            "[984 rows x 31 columns]\n"
          ]
        }
      ]
    },
    {
      "cell_type": "code",
      "source": [
        "# observation in each class\n",
        "dataset['Class'].value_counts()"
      ],
      "metadata": {
        "colab": {
          "base_uri": "https://localhost:8080/"
        },
        "id": "kgsUxifY6yPh",
        "outputId": "d03ac497-0027-440e-9e22-a6a8cbb1f19c"
      },
      "execution_count": null,
      "outputs": [
        {
          "output_type": "execute_result",
          "data": {
            "text/plain": [
              "Class\n",
              "1    492\n",
              "0    492\n",
              "Name: count, dtype: int64"
            ]
          },
          "metadata": {},
          "execution_count": 23
        }
      ]
    },
    {
      "cell_type": "code",
      "source": [
        "# matrix of features\n",
        "x = dataset.drop(labels=['Class'], axis=1)"
      ],
      "metadata": {
        "id": "aSoa4kz766_y"
      },
      "execution_count": null,
      "outputs": []
    },
    {
      "cell_type": "code",
      "source": [
        "# depend variable\n",
        "y = dataset['Class']"
      ],
      "metadata": {
        "id": "y-hXxbjo7aMW"
      },
      "execution_count": null,
      "outputs": []
    },
    {
      "cell_type": "code",
      "source": [
        "x.shape, y.shape"
      ],
      "metadata": {
        "colab": {
          "base_uri": "https://localhost:8080/"
        },
        "id": "P4LOIIGx7h_a",
        "outputId": "d168589a-2b91-421c-d4d8-fa3b36afdb25"
      },
      "execution_count": null,
      "outputs": [
        {
          "output_type": "execute_result",
          "data": {
            "text/plain": [
              "((984, 30), (984,))"
            ]
          },
          "metadata": {},
          "execution_count": 26
        }
      ]
    },
    {
      "cell_type": "code",
      "source": [
        "# splitting the dataset into train and test set\n",
        "from sklearn.model_selection import train_test_split\n",
        "x_train, x_test, y_train, y_test = train_test_split(x, y, test_size = 0.2, random_state = 0)"
      ],
      "metadata": {
        "id": "WvTBTqUj7lhy"
      },
      "execution_count": null,
      "outputs": []
    },
    {
      "cell_type": "code",
      "source": [
        "x_train.shape, x_test.shape"
      ],
      "metadata": {
        "colab": {
          "base_uri": "https://localhost:8080/"
        },
        "id": "Qt2xOUE18Lry",
        "outputId": "73cc3b6f-dddd-4e09-b2d9-40478565c1e7"
      },
      "execution_count": null,
      "outputs": [
        {
          "output_type": "execute_result",
          "data": {
            "text/plain": [
              "((787, 30), (197, 30))"
            ]
          },
          "metadata": {},
          "execution_count": 28
        }
      ]
    },
    {
      "cell_type": "code",
      "source": [
        "# feature scaling\n",
        "from sklearn.preprocessing import StandardScaler\n",
        "sc = StandardScaler()\n",
        "x_train =sc.fit_transform(x_train)\n",
        "x_test = sc.transform(x_test)"
      ],
      "metadata": {
        "id": "EKjqUL0h8Y9s"
      },
      "execution_count": null,
      "outputs": []
    },
    {
      "cell_type": "code",
      "source": [
        "x_train.shape, x_test.shape"
      ],
      "metadata": {
        "colab": {
          "base_uri": "https://localhost:8080/"
        },
        "id": "T7zbFApo8-98",
        "outputId": "c8d1e54d-d405-4bfd-af0b-60349bd65f20"
      },
      "execution_count": null,
      "outputs": [
        {
          "output_type": "execute_result",
          "data": {
            "text/plain": [
              "((787, 30), (197, 30))"
            ]
          },
          "metadata": {},
          "execution_count": 31
        }
      ]
    },
    {
      "cell_type": "code",
      "source": [
        "# reshape the dataset\n",
        "x_train = x_train.reshape(787, 30, 1)\n",
        "x_test = x_test.reshape(197, 30, 1)"
      ],
      "metadata": {
        "id": "_CaLNMC59ILs"
      },
      "execution_count": null,
      "outputs": []
    },
    {
      "cell_type": "code",
      "source": [
        "x_train.shape, x_test.shape"
      ],
      "metadata": {
        "colab": {
          "base_uri": "https://localhost:8080/"
        },
        "id": "QJuDYDdg9sXU",
        "outputId": "77e39499-167d-4264-c722-5a9455a062e0"
      },
      "execution_count": null,
      "outputs": [
        {
          "output_type": "execute_result",
          "data": {
            "text/plain": [
              "((787, 30, 1), (197, 30, 1))"
            ]
          },
          "metadata": {},
          "execution_count": 33
        }
      ]
    },
    {
      "cell_type": "markdown",
      "source": [
        "# ***Etapa IV:Construirea modelului***"
      ],
      "metadata": {
        "id": "4I5-K-AfPJJf"
      }
    },
    {
      "cell_type": "code",
      "source": [
        "# defining an object\n",
        "model = tf.keras.models.Sequential()"
      ],
      "metadata": {
        "id": "XCSOoBeEPH_3"
      },
      "execution_count": null,
      "outputs": []
    },
    {
      "cell_type": "code",
      "source": [
        "# first CNN layer\n",
        "model.add(tf.keras.layers.Conv1D(filters=32, kernel_size=2, padding='same', activation='relu',input_shape =(30,1)))\n",
        "\n",
        "#batch normalization\n",
        "model.add(tf.keras.layers.BatchNormalization())\n",
        "\n",
        "# maxpool layer\n",
        "model.add(tf.keras.layers.MaxPool1D(pool_size=2))\n",
        "\n",
        "#dropout layer\n",
        "model.add(tf.keras.layers.Dropout(0.2))"
      ],
      "metadata": {
        "id": "dtbPrTuPQRf-"
      },
      "execution_count": null,
      "outputs": []
    },
    {
      "cell_type": "code",
      "source": [
        "# second CNN layer\n",
        "model.add(tf.keras.layers.Conv1D(filters=64, kernel_size=2, padding='same', activation='relu'))\n",
        "\n",
        "#batch normalization\n",
        "model.add(tf.keras.layers.BatchNormalization())\n",
        "\n",
        "# maxpool layer\n",
        "model.add(tf.keras.layers.MaxPool1D(pool_size=2))\n",
        "\n",
        "#dropout layer\n",
        "model.add(tf.keras.layers.Dropout(0.3))"
      ],
      "metadata": {
        "id": "sFOlV2MxSAQI"
      },
      "execution_count": null,
      "outputs": []
    },
    {
      "cell_type": "code",
      "source": [
        "# flatten layer\n",
        "model.add(tf.keras.layers.Flatten())"
      ],
      "metadata": {
        "id": "uDs0ihgyS3nZ"
      },
      "execution_count": null,
      "outputs": []
    },
    {
      "cell_type": "code",
      "source": [
        "# first dense layer\n",
        "model.add(tf.keras.layers.Dense(units=64, activation='relu'))\n",
        "\n",
        "#dropout layer\n",
        "model.add(tf.keras.layers.Dropout(0.3))"
      ],
      "metadata": {
        "id": "omWwg4ltTDq3"
      },
      "execution_count": null,
      "outputs": []
    },
    {
      "cell_type": "code",
      "source": [
        "# output layer\n",
        "model.add(tf.keras.layers.Dense(units=1, activation='sigmoid'))"
      ],
      "metadata": {
        "id": "1hKsCgJCTiUa"
      },
      "execution_count": null,
      "outputs": []
    },
    {
      "cell_type": "code",
      "source": [
        "model.summary()"
      ],
      "metadata": {
        "colab": {
          "base_uri": "https://localhost:8080/"
        },
        "id": "EnrPLPcRTz7N",
        "outputId": "c25c570f-98e2-4a50-aa2c-e93ab50104d6"
      },
      "execution_count": null,
      "outputs": [
        {
          "output_type": "stream",
          "name": "stdout",
          "text": [
            "Model: \"sequential\"\n",
            "_________________________________________________________________\n",
            " Layer (type)                Output Shape              Param #   \n",
            "=================================================================\n",
            " conv1d (Conv1D)             (None, 30, 32)            96        \n",
            "                                                                 \n",
            " batch_normalization (Batch  (None, 30, 32)            128       \n",
            " Normalization)                                                  \n",
            "                                                                 \n",
            " max_pooling1d (MaxPooling1  (None, 15, 32)            0         \n",
            " D)                                                              \n",
            "                                                                 \n",
            " dropout (Dropout)           (None, 15, 32)            0         \n",
            "                                                                 \n",
            " conv1d_1 (Conv1D)           (None, 15, 64)            4160      \n",
            "                                                                 \n",
            " batch_normalization_1 (Bat  (None, 15, 64)            256       \n",
            " chNormalization)                                                \n",
            "                                                                 \n",
            " max_pooling1d_1 (MaxPoolin  (None, 7, 64)             0         \n",
            " g1D)                                                            \n",
            "                                                                 \n",
            " dropout_1 (Dropout)         (None, 7, 64)             0         \n",
            "                                                                 \n",
            " flatten (Flatten)           (None, 448)               0         \n",
            "                                                                 \n",
            " dense (Dense)               (None, 64)                28736     \n",
            "                                                                 \n",
            " dropout_2 (Dropout)         (None, 64)                0         \n",
            "                                                                 \n",
            " dense_1 (Dense)             (None, 1)                 65        \n",
            "                                                                 \n",
            "=================================================================\n",
            "Total params: 33441 (130.63 KB)\n",
            "Trainable params: 33249 (129.88 KB)\n",
            "Non-trainable params: 192 (768.00 Byte)\n",
            "_________________________________________________________________\n"
          ]
        }
      ]
    },
    {
      "cell_type": "code",
      "source": [
        "opt = tf.keras.optimizers.Adam(learning_rate=0.0001)"
      ],
      "metadata": {
        "id": "0J4ebtNeUkIv"
      },
      "execution_count": null,
      "outputs": []
    },
    {
      "cell_type": "code",
      "source": [
        "model.compile(optimizer=opt, loss='binary_crossentropy', metrics=['accuracy',tf.keras.metrics.Precision(), tf.keras.metrics.Recall()])"
      ],
      "metadata": {
        "id": "Nbr_ea6tUzvb"
      },
      "execution_count": null,
      "outputs": []
    },
    {
      "cell_type": "markdown",
      "source": [
        "# ***Etapa V: Antrenarea modelului***"
      ],
      "metadata": {
        "id": "FZ8OIoPYVSga"
      }
    },
    {
      "cell_type": "code",
      "source": [
        "history =  model.fit(x_train, y_train, epochs=25, validation_data=(x_test, y_test))"
      ],
      "metadata": {
        "colab": {
          "base_uri": "https://localhost:8080/"
        },
        "id": "qF_DQrumVbvc",
        "outputId": "b39b215d-175a-45f5-f8d4-217c6674586d"
      },
      "execution_count": null,
      "outputs": [
        {
          "output_type": "stream",
          "name": "stdout",
          "text": [
            "Epoch 1/25\n",
            "25/25 [==============================] - 2s 21ms/step - loss: 0.2299 - accuracy: 0.9149 - precision_2: 0.9372 - recall_2: 0.8928 - val_loss: 0.1511 - val_accuracy: 0.9543 - val_precision_2: 1.0000 - val_recall_2: 0.9011\n",
            "Epoch 2/25\n",
            "25/25 [==============================] - 0s 8ms/step - loss: 0.2383 - accuracy: 0.9047 - precision_2: 0.9405 - recall_2: 0.8678 - val_loss: 0.1501 - val_accuracy: 0.9543 - val_precision_2: 1.0000 - val_recall_2: 0.9011\n",
            "Epoch 3/25\n",
            "25/25 [==============================] - 0s 8ms/step - loss: 0.2180 - accuracy: 0.9199 - precision_2: 0.9519 - recall_2: 0.8878 - val_loss: 0.1472 - val_accuracy: 0.9594 - val_precision_2: 1.0000 - val_recall_2: 0.9121\n",
            "Epoch 4/25\n",
            "25/25 [==============================] - 0s 7ms/step - loss: 0.2055 - accuracy: 0.9225 - precision_2: 0.9570 - recall_2: 0.8878 - val_loss: 0.1461 - val_accuracy: 0.9594 - val_precision_2: 1.0000 - val_recall_2: 0.9121\n",
            "Epoch 5/25\n",
            "25/25 [==============================] - 0s 8ms/step - loss: 0.2255 - accuracy: 0.9149 - precision_2: 0.9563 - recall_2: 0.8728 - val_loss: 0.1439 - val_accuracy: 0.9594 - val_precision_2: 1.0000 - val_recall_2: 0.9121\n",
            "Epoch 6/25\n",
            "25/25 [==============================] - 0s 8ms/step - loss: 0.1851 - accuracy: 0.9377 - precision_2: 0.9706 - recall_2: 0.9052 - val_loss: 0.1425 - val_accuracy: 0.9594 - val_precision_2: 1.0000 - val_recall_2: 0.9121\n",
            "Epoch 7/25\n",
            "25/25 [==============================] - 0s 8ms/step - loss: 0.2143 - accuracy: 0.9149 - precision_2: 0.9395 - recall_2: 0.8903 - val_loss: 0.1412 - val_accuracy: 0.9594 - val_precision_2: 1.0000 - val_recall_2: 0.9121\n",
            "Epoch 8/25\n",
            "25/25 [==============================] - 0s 8ms/step - loss: 0.2220 - accuracy: 0.9301 - precision_2: 0.9676 - recall_2: 0.8928 - val_loss: 0.1393 - val_accuracy: 0.9594 - val_precision_2: 1.0000 - val_recall_2: 0.9121\n",
            "Epoch 9/25\n",
            "25/25 [==============================] - 0s 8ms/step - loss: 0.2003 - accuracy: 0.9301 - precision_2: 0.9626 - recall_2: 0.8978 - val_loss: 0.1387 - val_accuracy: 0.9594 - val_precision_2: 1.0000 - val_recall_2: 0.9121\n",
            "Epoch 10/25\n",
            "25/25 [==============================] - 0s 8ms/step - loss: 0.2076 - accuracy: 0.9250 - precision_2: 0.9500 - recall_2: 0.9002 - val_loss: 0.1375 - val_accuracy: 0.9594 - val_precision_2: 1.0000 - val_recall_2: 0.9121\n",
            "Epoch 11/25\n",
            "25/25 [==============================] - 0s 7ms/step - loss: 0.2200 - accuracy: 0.9187 - precision_2: 0.9446 - recall_2: 0.8928 - val_loss: 0.1380 - val_accuracy: 0.9594 - val_precision_2: 1.0000 - val_recall_2: 0.9121\n",
            "Epoch 12/25\n",
            "25/25 [==============================] - 0s 8ms/step - loss: 0.2104 - accuracy: 0.9250 - precision_2: 0.9597 - recall_2: 0.8903 - val_loss: 0.1374 - val_accuracy: 0.9543 - val_precision_2: 0.9881 - val_recall_2: 0.9121\n",
            "Epoch 13/25\n",
            "25/25 [==============================] - 0s 8ms/step - loss: 0.1878 - accuracy: 0.9365 - precision_2: 0.9631 - recall_2: 0.9102 - val_loss: 0.1370 - val_accuracy: 0.9543 - val_precision_2: 0.9881 - val_recall_2: 0.9121\n",
            "Epoch 14/25\n",
            "25/25 [==============================] - 0s 8ms/step - loss: 0.1886 - accuracy: 0.9339 - precision_2: 0.9653 - recall_2: 0.9027 - val_loss: 0.1370 - val_accuracy: 0.9543 - val_precision_2: 0.9881 - val_recall_2: 0.9121\n",
            "Epoch 15/25\n",
            "25/25 [==============================] - 0s 8ms/step - loss: 0.2117 - accuracy: 0.9174 - precision_2: 0.9421 - recall_2: 0.8928 - val_loss: 0.1363 - val_accuracy: 0.9543 - val_precision_2: 0.9881 - val_recall_2: 0.9121\n",
            "Epoch 16/25\n",
            "25/25 [==============================] - 0s 8ms/step - loss: 0.2057 - accuracy: 0.9212 - precision_2: 0.9449 - recall_2: 0.8978 - val_loss: 0.1359 - val_accuracy: 0.9543 - val_precision_2: 0.9881 - val_recall_2: 0.9121\n",
            "Epoch 17/25\n",
            "25/25 [==============================] - 0s 8ms/step - loss: 0.2077 - accuracy: 0.9149 - precision_2: 0.9418 - recall_2: 0.8878 - val_loss: 0.1352 - val_accuracy: 0.9543 - val_precision_2: 0.9881 - val_recall_2: 0.9121\n",
            "Epoch 18/25\n",
            "25/25 [==============================] - 0s 8ms/step - loss: 0.2095 - accuracy: 0.9301 - precision_2: 0.9626 - recall_2: 0.8978 - val_loss: 0.1351 - val_accuracy: 0.9543 - val_precision_2: 0.9881 - val_recall_2: 0.9121\n",
            "Epoch 19/25\n",
            "25/25 [==============================] - 0s 7ms/step - loss: 0.1870 - accuracy: 0.9225 - precision_2: 0.9521 - recall_2: 0.8928 - val_loss: 0.1342 - val_accuracy: 0.9543 - val_precision_2: 0.9881 - val_recall_2: 0.9121\n",
            "Epoch 20/25\n",
            "25/25 [==============================] - 0s 7ms/step - loss: 0.1921 - accuracy: 0.9276 - precision_2: 0.9526 - recall_2: 0.9027 - val_loss: 0.1335 - val_accuracy: 0.9543 - val_precision_2: 0.9881 - val_recall_2: 0.9121\n",
            "Epoch 21/25\n",
            "25/25 [==============================] - 0s 7ms/step - loss: 0.1961 - accuracy: 0.9301 - precision_2: 0.9553 - recall_2: 0.9052 - val_loss: 0.1327 - val_accuracy: 0.9543 - val_precision_2: 0.9881 - val_recall_2: 0.9121\n",
            "Epoch 22/25\n",
            "25/25 [==============================] - 0s 7ms/step - loss: 0.1816 - accuracy: 0.9352 - precision_2: 0.9679 - recall_2: 0.9027 - val_loss: 0.1321 - val_accuracy: 0.9543 - val_precision_2: 0.9881 - val_recall_2: 0.9121\n",
            "Epoch 23/25\n",
            "25/25 [==============================] - 0s 7ms/step - loss: 0.1918 - accuracy: 0.9276 - precision_2: 0.9624 - recall_2: 0.8928 - val_loss: 0.1324 - val_accuracy: 0.9543 - val_precision_2: 0.9881 - val_recall_2: 0.9121\n",
            "Epoch 24/25\n",
            "25/25 [==============================] - 0s 7ms/step - loss: 0.1802 - accuracy: 0.9377 - precision_2: 0.9583 - recall_2: 0.9177 - val_loss: 0.1314 - val_accuracy: 0.9543 - val_precision_2: 0.9881 - val_recall_2: 0.9121\n",
            "Epoch 25/25\n",
            "25/25 [==============================] - 0s 7ms/step - loss: 0.1967 - accuracy: 0.9288 - precision_2: 0.9600 - recall_2: 0.8978 - val_loss: 0.1322 - val_accuracy: 0.9543 - val_precision_2: 0.9881 - val_recall_2: 0.9121\n"
          ]
        }
      ]
    },
    {
      "cell_type": "code",
      "source": [
        "y_pred = model.predict(x_test)"
      ],
      "metadata": {
        "colab": {
          "base_uri": "https://localhost:8080/",
          "height": 161
        },
        "id": "MZgO7MqPUpmP",
        "outputId": "acf91d14-864b-48e5-83dc-cbe1a9ba3aff"
      },
      "execution_count": null,
      "outputs": [
        {
          "output_type": "error",
          "ename": "AttributeError",
          "evalue": "'Sequential' object has no attribute 'predict_classes'",
          "traceback": [
            "\u001b[0;31m---------------------------------------------------------------------------\u001b[0m",
            "\u001b[0;31mAttributeError\u001b[0m                            Traceback (most recent call last)",
            "\u001b[0;32m<ipython-input-72-bae1a118294d>\u001b[0m in \u001b[0;36m<cell line: 1>\u001b[0;34m()\u001b[0m\n\u001b[0;32m----> 1\u001b[0;31m \u001b[0my_pred\u001b[0m \u001b[0;34m=\u001b[0m \u001b[0mmodel\u001b[0m\u001b[0;34m.\u001b[0m\u001b[0mpredict_classes\u001b[0m\u001b[0;34m(\u001b[0m\u001b[0mx_test\u001b[0m\u001b[0;34m)\u001b[0m\u001b[0;34m\u001b[0m\u001b[0;34m\u001b[0m\u001b[0m\n\u001b[0m",
            "\u001b[0;31mAttributeError\u001b[0m: 'Sequential' object has no attribute 'predict_classes'"
          ]
        }
      ]
    },
    {
      "cell_type": "code",
      "source": [
        "y_pred = np.where(y_pred > 0.5 , 1,0)"
      ],
      "metadata": {
        "id": "2hL3KROaZiem"
      },
      "execution_count": null,
      "outputs": []
    },
    {
      "cell_type": "code",
      "source": [
        "print (y_pred)"
      ],
      "metadata": {
        "colab": {
          "base_uri": "https://localhost:8080/"
        },
        "id": "k-uJQ74GY7GV",
        "outputId": "7ee1d58e-bd9f-4665-ba0e-b496e2807fad"
      },
      "execution_count": null,
      "outputs": [
        {
          "output_type": "stream",
          "name": "stdout",
          "text": [
            "[[0]\n",
            " [0]\n",
            " [1]\n",
            " [0]\n",
            " [0]\n",
            " [1]\n",
            " [1]\n",
            " [0]\n",
            " [0]\n",
            " [0]\n",
            " [0]\n",
            " [0]\n",
            " [1]\n",
            " [1]\n",
            " [0]\n",
            " [1]\n",
            " [0]\n",
            " [0]\n",
            " [1]\n",
            " [1]\n",
            " [0]\n",
            " [0]\n",
            " [1]\n",
            " [0]\n",
            " [1]\n",
            " [0]\n",
            " [1]\n",
            " [1]\n",
            " [0]\n",
            " [0]\n",
            " [1]\n",
            " [0]\n",
            " [0]\n",
            " [0]\n",
            " [1]\n",
            " [1]\n",
            " [1]\n",
            " [0]\n",
            " [1]\n",
            " [1]\n",
            " [1]\n",
            " [0]\n",
            " [0]\n",
            " [1]\n",
            " [0]\n",
            " [0]\n",
            " [1]\n",
            " [1]\n",
            " [1]\n",
            " [0]\n",
            " [0]\n",
            " [1]\n",
            " [0]\n",
            " [0]\n",
            " [1]\n",
            " [1]\n",
            " [1]\n",
            " [0]\n",
            " [1]\n",
            " [1]\n",
            " [1]\n",
            " [0]\n",
            " [1]\n",
            " [0]\n",
            " [0]\n",
            " [0]\n",
            " [1]\n",
            " [0]\n",
            " [0]\n",
            " [0]\n",
            " [0]\n",
            " [0]\n",
            " [0]\n",
            " [0]\n",
            " [0]\n",
            " [1]\n",
            " [0]\n",
            " [1]\n",
            " [1]\n",
            " [0]\n",
            " [1]\n",
            " [0]\n",
            " [1]\n",
            " [1]\n",
            " [0]\n",
            " [0]\n",
            " [1]\n",
            " [0]\n",
            " [1]\n",
            " [0]\n",
            " [0]\n",
            " [0]\n",
            " [0]\n",
            " [0]\n",
            " [1]\n",
            " [0]\n",
            " [1]\n",
            " [0]\n",
            " [1]\n",
            " [0]\n",
            " [1]\n",
            " [1]\n",
            " [0]\n",
            " [0]\n",
            " [1]\n",
            " [0]\n",
            " [0]\n",
            " [1]\n",
            " [0]\n",
            " [1]\n",
            " [0]\n",
            " [1]\n",
            " [1]\n",
            " [1]\n",
            " [0]\n",
            " [0]\n",
            " [1]\n",
            " [0]\n",
            " [0]\n",
            " [1]\n",
            " [1]\n",
            " [0]\n",
            " [0]\n",
            " [1]\n",
            " [1]\n",
            " [0]\n",
            " [0]\n",
            " [0]\n",
            " [0]\n",
            " [0]\n",
            " [1]\n",
            " [0]\n",
            " [1]\n",
            " [1]\n",
            " [1]\n",
            " [1]\n",
            " [1]\n",
            " [0]\n",
            " [0]\n",
            " [1]\n",
            " [0]\n",
            " [0]\n",
            " [0]\n",
            " [0]\n",
            " [0]\n",
            " [1]\n",
            " [0]\n",
            " [0]\n",
            " [0]\n",
            " [1]\n",
            " [1]\n",
            " [0]\n",
            " [1]\n",
            " [0]\n",
            " [0]\n",
            " [1]\n",
            " [0]\n",
            " [0]\n",
            " [0]\n",
            " [0]\n",
            " [0]\n",
            " [1]\n",
            " [1]\n",
            " [0]\n",
            " [1]\n",
            " [1]\n",
            " [1]\n",
            " [1]\n",
            " [0]\n",
            " [0]\n",
            " [1]\n",
            " [0]\n",
            " [0]\n",
            " [1]\n",
            " [0]\n",
            " [1]\n",
            " [0]\n",
            " [0]\n",
            " [0]\n",
            " [0]\n",
            " [0]\n",
            " [1]\n",
            " [0]\n",
            " [1]\n",
            " [0]\n",
            " [1]\n",
            " [0]\n",
            " [1]\n",
            " [1]\n",
            " [0]\n",
            " [0]\n",
            " [0]\n",
            " [1]\n",
            " [0]\n",
            " [1]\n",
            " [0]\n",
            " [0]]\n"
          ]
        }
      ]
    },
    {
      "cell_type": "code",
      "source": [
        "print(y_pred[5]), print(y_test[5]), print(y_test[5])"
      ],
      "metadata": {
        "colab": {
          "base_uri": "https://localhost:8080/"
        },
        "id": "I3E0KbiiY65Z",
        "outputId": "85691d43-ccb2-439c-de56-a1da665b3dd0"
      },
      "execution_count": null,
      "outputs": [
        {
          "output_type": "stream",
          "name": "stdout",
          "text": [
            "0\n",
            "1\n",
            "1\n"
          ]
        },
        {
          "output_type": "execute_result",
          "data": {
            "text/plain": [
              "(None, None, None)"
            ]
          },
          "metadata": {},
          "execution_count": 60
        }
      ]
    },
    {
      "cell_type": "code",
      "source": [
        "# confusion matrix\n",
        "from sklearn.metrics import confusion_matrix, accuracy_score\n",
        "cm = confusion_matrix(y_test, y_pred)\n",
        "print(cm)"
      ],
      "metadata": {
        "colab": {
          "base_uri": "https://localhost:8080/"
        },
        "id": "c5bzJtZxaZYW",
        "outputId": "063e1ceb-c82e-43f3-a59e-00033dd5bf2c"
      },
      "execution_count": null,
      "outputs": [
        {
          "output_type": "stream",
          "name": "stdout",
          "text": [
            "[[105   1]\n",
            " [  8  83]]\n"
          ]
        }
      ]
    },
    {
      "cell_type": "code",
      "source": [
        "acc_cm = accuracy_score(y_test, y_pred)\n",
        "print(acc_cm)"
      ],
      "metadata": {
        "colab": {
          "base_uri": "https://localhost:8080/"
        },
        "id": "plq6_xndaxk8",
        "outputId": "04b68dc1-8930-4ce1-ffb7-db88d878ede7"
      },
      "execution_count": null,
      "outputs": [
        {
          "output_type": "stream",
          "name": "stdout",
          "text": [
            "0.9543147208121827\n"
          ]
        }
      ]
    },
    {
      "cell_type": "markdown",
      "source": [
        "# ***Etapa VI: Learning Curve***"
      ],
      "metadata": {
        "id": "qdrRJ0VZbv9F"
      }
    },
    {
      "cell_type": "code",
      "source": [
        "def learning_curve(history, epoch):\n",
        "\n",
        "  #training vs validation accuracy\n",
        "  epoch_range = range(1, epoch+1)\n",
        "  plt.plot(epoch_range, history.history['accuracy'])\n",
        "  plt.plot(epoch_range, history.history['val_accuracy'])\n",
        "  plt.title('Model Accuracy')\n",
        "  plt.ylabel('Accuracy')\n",
        "  plt.xlabel('Epoch')\n",
        "  plt.legend(['Train', 'val'], loc='upper left')\n",
        "  plt.show()\n",
        "\n",
        "  #training vs validation loss\n",
        "  plt.plot(epoch_range, history.history['loss'])\n",
        "  plt.plot(epoch_range, history.history['val_loss'])\n",
        "  plt.title('Model Loss')\n",
        "  plt.ylabel('Loss')\n",
        "  plt.xlabel('Epoch')\n",
        "  plt.legend(['Train', 'val'], loc='upper left')\n",
        "  plt.show()"
      ],
      "metadata": {
        "id": "k2qu6CX9b2Sc"
      },
      "execution_count": null,
      "outputs": []
    },
    {
      "cell_type": "code",
      "source": [
        "learning_curve(history, 25)"
      ],
      "metadata": {
        "colab": {
          "base_uri": "https://localhost:8080/",
          "height": 947
        },
        "id": "ZFL5OwA5dP1l",
        "outputId": "3aab5eec-c14d-4dd2-a188-765093db85f4"
      },
      "execution_count": null,
      "outputs": [
        {
          "output_type": "display_data",
          "data": {
            "text/plain": [
              "<Figure size 640x480 with 1 Axes>"
            ],
            "image/png": "[encoded data removed]"
          },
          "metadata": {}
        },
        {
          "output_type": "display_data",
          "data": {
            "text/plain": [
              "<Figure size 640x480 with 1 Axes>"
            ],
            "image/png": "[encoded data removed]"
          },
          "metadata": {}
        }
      ]
    },
    {
      "cell_type": "code",
      "source": [
        "print(history.history.keys())"
      ],
      "metadata": {
        "colab": {
          "base_uri": "https://localhost:8080/"
        },
        "id": "AVuh1zBOWFhl",
        "outputId": "5f82dcd8-4ad7-4490-d018-9f58569c1554"
      },
      "execution_count": null,
      "outputs": [
        {
          "output_type": "stream",
          "name": "stdout",
          "text": [
            "dict_keys(['loss', 'accuracy', 'precision_2', 'recall_2', 'val_loss', 'val_accuracy', 'val_precision_2', 'val_recall_2'])\n"
          ]
        }
      ]
    },
    {
      "cell_type": "code",
      "source": [
        "import tensorflow as tf\n",
        "from tensorflow.keras.preprocessing.image import ImageDataGenerator\n",
        "from tensorflow.keras.metrics import Precision, Recall, BinaryAccuracy, TruePositives, TrueNegatives, FalsePositives, FalseNegatives\n",
        "from tqdm import tqdm\n",
        "\n",
        "pre = Precision()\n",
        "re = Recall()\n",
        "acc = BinaryAccuracy()\n",
        "tp = TruePositives()\n",
        "tn = TrueNegatives()\n",
        "fp = FalsePositives()\n",
        "fn = FalseNegatives()\n",
        "\n",
        "\n",
        "\n",
        "for i, batch in (enumerate(zip(x_test,y_test)) ):\n",
        "\n",
        "    X, y = batch\n",
        "    X = np.reshape(X , (1,30,1))\n",
        "    print(X.shape)\n",
        "    yhat = model.predict(X)\n",
        "    yhat = np.where(yhat > 0.5 , 1,0)\n",
        "    y = np.reshape(y,(1,1))\n",
        "    pre.update_state(y, yhat)\n",
        "    re.update_state(y, yhat)\n",
        "    acc.update_state(y, yhat)\n",
        "    tp.update_state(y, yhat)\n",
        "    tn.update_state(y, yhat)\n",
        "    fp.update_state(y, yhat)\n",
        "    fn.update_state(y, yhat)\n",
        "    if(i>len(y_test)):\n",
        "     break\n",
        "\n",
        "print(\"Precision:\", pre.result().numpy())\n",
        "print(\"Recall:\", re.result().numpy())\n",
        "print(\"Binary Accuracy:\", acc.result().numpy())\n",
        "print(\"True Positives:\", tp.result().numpy())\n",
        "print(\"True Negatives:\", tn.result().numpy())\n",
        "print(\"False Positives:\", fp.result().numpy())\n",
        "print(\"False Negatives:\", fn.result().numpy())"
      ],
      "metadata": {
        "id": "ytibv6ZVpRhF",
        "colab": {
          "base_uri": "https://localhost:8080/"
        },
        "outputId": "737ad260-e8e0-47e5-dcb9-9f5218f77bc5"
      },
      "execution_count": null,
      "outputs": [
        {
          "output_type": "stream",
          "name": "stdout",
          "text": [
            "(1, 30, 1)\n",
            "1/1 [==============================] - 0s 23ms/step\n",
            "(1, 30, 1)\n",
            "1/1 [==============================] - 0s 21ms/step\n",
            "(1, 30, 1)\n",
            "1/1 [==============================] - 0s 23ms/step\n",
            "(1, 30, 1)\n",
            "1/1 [==============================] - 0s 22ms/step\n",
            "(1, 30, 1)\n",
            "1/1 [==============================] - 0s 24ms/step\n",
            "(1, 30, 1)\n",
            "1/1 [==============================] - 0s 22ms/step\n",
            "(1, 30, 1)\n",
            "1/1 [==============================] - 0s 24ms/step\n",
            "(1, 30, 1)\n",
            "1/1 [==============================] - 0s 22ms/step\n",
            "(1, 30, 1)\n",
            "1/1 [==============================] - 0s 21ms/step\n",
            "(1, 30, 1)\n",
            "1/1 [==============================] - 0s 23ms/step\n",
            "(1, 30, 1)\n",
            "1/1 [==============================] - 0s 24ms/step\n",
            "(1, 30, 1)\n",
            "1/1 [==============================] - 0s 23ms/step\n",
            "(1, 30, 1)\n",
            "1/1 [==============================] - 0s 23ms/step\n",
            "(1, 30, 1)\n",
            "1/1 [==============================] - 0s 22ms/step\n",
            "(1, 30, 1)\n",
            "1/1 [==============================] - 0s 22ms/step\n",
            "(1, 30, 1)\n",
            "1/1 [==============================] - 0s 21ms/step\n",
            "(1, 30, 1)\n",
            "1/1 [==============================] - 0s 21ms/step\n",
            "(1, 30, 1)\n",
            "1/1 [==============================] - 0s 22ms/step\n",
            "(1, 30, 1)\n",
            "1/1 [==============================] - 0s 21ms/step\n",
            "(1, 30, 1)\n",
            "1/1 [==============================] - 0s 21ms/step\n",
            "(1, 30, 1)\n",
            "1/1 [==============================] - 0s 22ms/step\n",
            "(1, 30, 1)\n",
            "1/1 [==============================] - 0s 21ms/step\n",
            "(1, 30, 1)\n",
            "1/1 [==============================] - 0s 23ms/step\n",
            "(1, 30, 1)\n",
            "1/1 [==============================] - 0s 20ms/step\n",
            "(1, 30, 1)\n",
            "1/1 [==============================] - 0s 21ms/step\n",
            "(1, 30, 1)\n",
            "1/1 [==============================] - 0s 21ms/step\n",
            "(1, 30, 1)\n",
            "1/1 [==============================] - 0s 20ms/step\n",
            "(1, 30, 1)\n",
            "1/1 [==============================] - 0s 20ms/step\n",
            "(1, 30, 1)\n",
            "1/1 [==============================] - 0s 21ms/step\n",
            "(1, 30, 1)\n",
            "1/1 [==============================] - 0s 22ms/step\n",
            "(1, 30, 1)\n",
            "1/1 [==============================] - 0s 22ms/step\n",
            "(1, 30, 1)\n",
            "1/1 [==============================] - 0s 21ms/step\n",
            "(1, 30, 1)\n",
            "1/1 [==============================] - 0s 23ms/step\n",
            "(1, 30, 1)\n",
            "1/1 [==============================] - 0s 22ms/step\n",
            "(1, 30, 1)\n",
            "1/1 [==============================] - 0s 21ms/step\n",
            "(1, 30, 1)\n",
            "1/1 [==============================] - 0s 22ms/step\n",
            "(1, 30, 1)\n",
            "1/1 [==============================] - 0s 20ms/step\n",
            "(1, 30, 1)\n",
            "1/1 [==============================] - 0s 21ms/step\n",
            "(1, 30, 1)\n",
            "1/1 [==============================] - 0s 22ms/step\n",
            "(1, 30, 1)\n",
            "1/1 [==============================] - 0s 21ms/step\n",
            "(1, 30, 1)\n",
            "1/1 [==============================] - 0s 21ms/step\n",
            "(1, 30, 1)\n",
            "1/1 [==============================] - 0s 21ms/step\n",
            "(1, 30, 1)\n",
            "1/1 [==============================] - 0s 22ms/step\n",
            "(1, 30, 1)\n",
            "1/1 [==============================] - 0s 21ms/step\n",
            "(1, 30, 1)\n",
            "1/1 [==============================] - 0s 20ms/step\n",
            "(1, 30, 1)\n",
            "1/1 [==============================] - 0s 21ms/step\n",
            "(1, 30, 1)\n",
            "1/1 [==============================] - 0s 24ms/step\n",
            "(1, 30, 1)\n",
            "1/1 [==============================] - 0s 23ms/step\n",
            "(1, 30, 1)\n",
            "1/1 [==============================] - 0s 23ms/step\n",
            "(1, 30, 1)\n",
            "1/1 [==============================] - 0s 21ms/step\n",
            "(1, 30, 1)\n",
            "1/1 [==============================] - 0s 23ms/step\n",
            "(1, 30, 1)\n",
            "1/1 [==============================] - 0s 21ms/step\n",
            "(1, 30, 1)\n",
            "1/1 [==============================] - 0s 24ms/step\n",
            "(1, 30, 1)\n",
            "1/1 [==============================] - 0s 21ms/step\n",
            "(1, 30, 1)\n",
            "1/1 [==============================] - 0s 22ms/step\n",
            "(1, 30, 1)\n",
            "1/1 [==============================] - 0s 25ms/step\n",
            "(1, 30, 1)\n",
            "1/1 [==============================] - 0s 23ms/step\n",
            "(1, 30, 1)\n",
            "1/1 [==============================] - 0s 25ms/step\n",
            "(1, 30, 1)\n",
            "1/1 [==============================] - 0s 21ms/step\n",
            "(1, 30, 1)\n",
            "1/1 [==============================] - 0s 25ms/step\n",
            "(1, 30, 1)\n",
            "1/1 [==============================] - 0s 25ms/step\n",
            "(1, 30, 1)\n",
            "1/1 [==============================] - 0s 23ms/step\n",
            "(1, 30, 1)\n",
            "1/1 [==============================] - 0s 22ms/step\n",
            "(1, 30, 1)\n",
            "1/1 [==============================] - 0s 21ms/step\n",
            "(1, 30, 1)\n",
            "1/1 [==============================] - 0s 22ms/step\n",
            "(1, 30, 1)\n",
            "1/1 [==============================] - 0s 21ms/step\n",
            "(1, 30, 1)\n",
            "1/1 [==============================] - 0s 21ms/step\n",
            "(1, 30, 1)\n",
            "1/1 [==============================] - 0s 22ms/step\n",
            "(1, 30, 1)\n",
            "1/1 [==============================] - 0s 22ms/step\n",
            "(1, 30, 1)\n",
            "1/1 [==============================] - 0s 23ms/step\n",
            "(1, 30, 1)\n",
            "1/1 [==============================] - 0s 22ms/step\n",
            "(1, 30, 1)\n",
            "1/1 [==============================] - 0s 22ms/step\n",
            "(1, 30, 1)\n",
            "1/1 [==============================] - 0s 23ms/step\n",
            "(1, 30, 1)\n",
            "1/1 [==============================] - 0s 20ms/step\n",
            "(1, 30, 1)\n",
            "1/1 [==============================] - 0s 22ms/step\n",
            "(1, 30, 1)\n",
            "1/1 [==============================] - 0s 23ms/step\n",
            "(1, 30, 1)\n",
            "1/1 [==============================] - 0s 21ms/step\n",
            "(1, 30, 1)\n",
            "1/1 [==============================] - 0s 21ms/step\n",
            "(1, 30, 1)\n",
            "1/1 [==============================] - 0s 21ms/step\n",
            "(1, 30, 1)\n",
            "1/1 [==============================] - 0s 23ms/step\n",
            "(1, 30, 1)\n",
            "1/1 [==============================] - 0s 21ms/step\n",
            "(1, 30, 1)\n",
            "1/1 [==============================] - 0s 21ms/step\n",
            "(1, 30, 1)\n",
            "1/1 [==============================] - 0s 21ms/step\n",
            "(1, 30, 1)\n",
            "1/1 [==============================] - 0s 23ms/step\n",
            "(1, 30, 1)\n",
            "1/1 [==============================] - 0s 21ms/step\n",
            "(1, 30, 1)\n",
            "1/1 [==============================] - 0s 21ms/step\n",
            "(1, 30, 1)\n",
            "1/1 [==============================] - 0s 21ms/step\n",
            "(1, 30, 1)\n",
            "1/1 [==============================] - 0s 22ms/step\n",
            "(1, 30, 1)\n",
            "1/1 [==============================] - 0s 21ms/step\n",
            "(1, 30, 1)\n",
            "1/1 [==============================] - 0s 21ms/step\n",
            "(1, 30, 1)\n",
            "1/1 [==============================] - 0s 20ms/step\n",
            "(1, 30, 1)\n",
            "1/1 [==============================] - 0s 21ms/step\n",
            "(1, 30, 1)\n",
            "1/1 [==============================] - 0s 22ms/step\n",
            "(1, 30, 1)\n",
            "1/1 [==============================] - 0s 21ms/step\n",
            "(1, 30, 1)\n",
            "1/1 [==============================] - 0s 21ms/step\n",
            "(1, 30, 1)\n",
            "1/1 [==============================] - 0s 22ms/step\n",
            "(1, 30, 1)\n",
            "1/1 [==============================] - 0s 21ms/step\n",
            "(1, 30, 1)\n",
            "1/1 [==============================] - 0s 21ms/step\n",
            "(1, 30, 1)\n",
            "1/1 [==============================] - 0s 21ms/step\n",
            "(1, 30, 1)\n",
            "1/1 [==============================] - 0s 20ms/step\n",
            "(1, 30, 1)\n",
            "1/1 [==============================] - 0s 20ms/step\n",
            "(1, 30, 1)\n",
            "1/1 [==============================] - 0s 21ms/step\n",
            "(1, 30, 1)\n",
            "1/1 [==============================] - 0s 21ms/step\n",
            "(1, 30, 1)\n",
            "1/1 [==============================] - 0s 22ms/step\n",
            "(1, 30, 1)\n",
            "1/1 [==============================] - 0s 22ms/step\n",
            "(1, 30, 1)\n",
            "1/1 [==============================] - 0s 21ms/step\n",
            "(1, 30, 1)\n",
            "1/1 [==============================] - 0s 20ms/step\n",
            "(1, 30, 1)\n",
            "1/1 [==============================] - 0s 21ms/step\n",
            "(1, 30, 1)\n",
            "1/1 [==============================] - 0s 21ms/step\n",
            "(1, 30, 1)\n",
            "1/1 [==============================] - 0s 22ms/step\n",
            "(1, 30, 1)\n",
            "1/1 [==============================] - 0s 23ms/step\n",
            "(1, 30, 1)\n",
            "1/1 [==============================] - 0s 23ms/step\n",
            "(1, 30, 1)\n",
            "1/1 [==============================] - 0s 22ms/step\n",
            "(1, 30, 1)\n",
            "1/1 [==============================] - 0s 24ms/step\n",
            "(1, 30, 1)\n",
            "1/1 [==============================] - 0s 21ms/step\n",
            "(1, 30, 1)\n",
            "1/1 [==============================] - 0s 23ms/step\n",
            "(1, 30, 1)\n",
            "1/1 [==============================] - 0s 21ms/step\n",
            "(1, 30, 1)\n",
            "1/1 [==============================] - 0s 22ms/step\n",
            "(1, 30, 1)\n",
            "1/1 [==============================] - 0s 20ms/step\n",
            "(1, 30, 1)\n",
            "1/1 [==============================] - 0s 21ms/step\n",
            "(1, 30, 1)\n",
            "1/1 [==============================] - 0s 21ms/step\n",
            "(1, 30, 1)\n",
            "1/1 [==============================] - 0s 21ms/step\n",
            "(1, 30, 1)\n",
            "1/1 [==============================] - 0s 22ms/step\n",
            "(1, 30, 1)\n",
            "1/1 [==============================] - 0s 21ms/step\n",
            "(1, 30, 1)\n",
            "1/1 [==============================] - 0s 23ms/step\n",
            "(1, 30, 1)\n",
            "1/1 [==============================] - 0s 24ms/step\n",
            "(1, 30, 1)\n",
            "1/1 [==============================] - 0s 23ms/step\n",
            "(1, 30, 1)\n",
            "1/1 [==============================] - 0s 23ms/step\n",
            "(1, 30, 1)\n",
            "1/1 [==============================] - 0s 23ms/step\n",
            "(1, 30, 1)\n",
            "1/1 [==============================] - 0s 22ms/step\n",
            "(1, 30, 1)\n",
            "1/1 [==============================] - 0s 23ms/step\n",
            "(1, 30, 1)\n",
            "1/1 [==============================] - 0s 21ms/step\n",
            "(1, 30, 1)\n",
            "1/1 [==============================] - 0s 21ms/step\n",
            "(1, 30, 1)\n",
            "1/1 [==============================] - 0s 23ms/step\n",
            "(1, 30, 1)\n",
            "1/1 [==============================] - 0s 29ms/step\n",
            "(1, 30, 1)\n",
            "1/1 [==============================] - 0s 21ms/step\n",
            "(1, 30, 1)\n",
            "1/1 [==============================] - 0s 21ms/step\n",
            "(1, 30, 1)\n",
            "1/1 [==============================] - 0s 21ms/step\n",
            "(1, 30, 1)\n",
            "1/1 [==============================] - 0s 21ms/step\n",
            "(1, 30, 1)\n",
            "1/1 [==============================] - 0s 23ms/step\n",
            "(1, 30, 1)\n",
            "1/1 [==============================] - 0s 20ms/step\n",
            "(1, 30, 1)\n",
            "1/1 [==============================] - 0s 21ms/step\n",
            "(1, 30, 1)\n",
            "1/1 [==============================] - 0s 22ms/step\n",
            "(1, 30, 1)\n",
            "1/1 [==============================] - 0s 21ms/step\n",
            "(1, 30, 1)\n",
            "1/1 [==============================] - 0s 20ms/step\n",
            "(1, 30, 1)\n",
            "1/1 [==============================] - 0s 21ms/step\n",
            "(1, 30, 1)\n",
            "1/1 [==============================] - 0s 21ms/step\n",
            "(1, 30, 1)\n",
            "1/1 [==============================] - 0s 22ms/step\n",
            "(1, 30, 1)\n",
            "1/1 [==============================] - 0s 23ms/step\n",
            "(1, 30, 1)\n",
            "1/1 [==============================] - 0s 21ms/step\n",
            "(1, 30, 1)\n",
            "1/1 [==============================] - 0s 21ms/step\n",
            "(1, 30, 1)\n",
            "1/1 [==============================] - 0s 22ms/step\n",
            "(1, 30, 1)\n",
            "1/1 [==============================] - 0s 21ms/step\n",
            "(1, 30, 1)\n",
            "1/1 [==============================] - 0s 21ms/step\n",
            "(1, 30, 1)\n",
            "1/1 [==============================] - 0s 22ms/step\n",
            "(1, 30, 1)\n",
            "1/1 [==============================] - 0s 21ms/step\n",
            "(1, 30, 1)\n",
            "1/1 [==============================] - 0s 26ms/step\n",
            "(1, 30, 1)\n",
            "1/1 [==============================] - 0s 23ms/step\n",
            "(1, 30, 1)\n",
            "1/1 [==============================] - 0s 21ms/step\n",
            "(1, 30, 1)\n",
            "1/1 [==============================] - 0s 22ms/step\n",
            "(1, 30, 1)\n",
            "1/1 [==============================] - 0s 21ms/step\n",
            "(1, 30, 1)\n",
            "1/1 [==============================] - 0s 23ms/step\n",
            "(1, 30, 1)\n",
            "1/1 [==============================] - 0s 21ms/step\n",
            "(1, 30, 1)\n",
            "1/1 [==============================] - 0s 23ms/step\n",
            "(1, 30, 1)\n",
            "1/1 [==============================] - 0s 22ms/step\n",
            "(1, 30, 1)\n",
            "1/1 [==============================] - 0s 25ms/step\n",
            "(1, 30, 1)\n",
            "1/1 [==============================] - 0s 22ms/step\n",
            "(1, 30, 1)\n",
            "1/1 [==============================] - 0s 22ms/step\n",
            "(1, 30, 1)\n",
            "1/1 [==============================] - 0s 22ms/step\n",
            "(1, 30, 1)\n",
            "1/1 [==============================] - 0s 22ms/step\n",
            "(1, 30, 1)\n",
            "1/1 [==============================] - 0s 21ms/step\n",
            "(1, 30, 1)\n",
            "1/1 [==============================] - 0s 22ms/step\n",
            "(1, 30, 1)\n",
            "1/1 [==============================] - 0s 22ms/step\n",
            "(1, 30, 1)\n",
            "1/1 [==============================] - 0s 22ms/step\n",
            "(1, 30, 1)\n",
            "1/1 [==============================] - 0s 25ms/step\n",
            "(1, 30, 1)\n",
            "1/1 [==============================] - 0s 23ms/step\n",
            "(1, 30, 1)\n",
            "1/1 [==============================] - 0s 28ms/step\n",
            "(1, 30, 1)\n",
            "1/1 [==============================] - 0s 25ms/step\n",
            "(1, 30, 1)\n",
            "1/1 [==============================] - 0s 22ms/step\n",
            "(1, 30, 1)\n",
            "1/1 [==============================] - 0s 22ms/step\n",
            "(1, 30, 1)\n",
            "1/1 [==============================] - 0s 24ms/step\n",
            "(1, 30, 1)\n",
            "1/1 [==============================] - 0s 24ms/step\n",
            "(1, 30, 1)\n",
            "1/1 [==============================] - 0s 21ms/step\n",
            "(1, 30, 1)\n",
            "1/1 [==============================] - 0s 24ms/step\n",
            "(1, 30, 1)\n",
            "1/1 [==============================] - 0s 25ms/step\n",
            "(1, 30, 1)\n",
            "1/1 [==============================] - 0s 22ms/step\n",
            "(1, 30, 1)\n",
            "1/1 [==============================] - 0s 25ms/step\n",
            "(1, 30, 1)\n",
            "1/1 [==============================] - 0s 28ms/step\n",
            "(1, 30, 1)\n",
            "1/1 [==============================] - 0s 22ms/step\n",
            "(1, 30, 1)\n",
            "1/1 [==============================] - 0s 21ms/step\n",
            "(1, 30, 1)\n",
            "1/1 [==============================] - 0s 23ms/step\n",
            "(1, 30, 1)\n",
            "1/1 [==============================] - 0s 24ms/step\n",
            "(1, 30, 1)\n",
            "1/1 [==============================] - 0s 23ms/step\n",
            "(1, 30, 1)\n",
            "1/1 [==============================] - 0s 27ms/step\n",
            "(1, 30, 1)\n",
            "1/1 [==============================] - 0s 23ms/step\n",
            "(1, 30, 1)\n",
            "1/1 [==============================] - 0s 26ms/step\n",
            "(1, 30, 1)\n",
            "1/1 [==============================] - 0s 25ms/step\n",
            "Precision: 0.9880952\n",
            "Recall: 0.9120879\n",
            "Binary Accuracy: 0.9543147\n",
            "True Positives: 83.0\n",
            "True Negatives: 105.0\n",
            "False Positives: 1.0\n",
            "False Negatives: 8.0\n"
          ]
        }
      ]
    },
    {
      "cell_type": "code",
      "source": [
        "print(x_test.shape)"
      ],
      "metadata": {
        "colab": {
          "base_uri": "https://localhost:8080/"
        },
        "id": "1K1AHc1wcrZz",
        "outputId": "425a7cad-f0f9-4a85-cd69-a539bc9e30ce"
      },
      "execution_count": null,
      "outputs": [
        {
          "output_type": "stream",
          "name": "stdout",
          "text": [
            "(197, 30, 1)\n"
          ]
        }
      ]
    },
    {
      "cell_type": "code",
      "source": [
        "def learning_curve(history, epoch):\n",
        "\n",
        "  #training vs validation accuracy\n",
        "  epoch_range = range(1, epoch+1)\n",
        "  plt.plot(epoch_range, history.history['accuracy'])\n",
        "  plt.plot(epoch_range, history.history['val_accuracy'])\n",
        "  plt.title('Model Accuracy')\n",
        "  plt.ylabel('Accuracy')\n",
        "  plt.xlabel('Epoch')\n",
        "  plt.legend(['Train', 'val'], loc='upper left')\n",
        "  plt.show()\n",
        "\n",
        "  #training vs validation loss\n",
        "  plt.plot(epoch_range, history.history['loss'])\n",
        "  plt.plot(epoch_range, history.history['val_loss'])\n",
        "  plt.title('Model Loss')\n",
        "  plt.ylabel('Loss')\n",
        "  plt.xlabel('Epoch')\n",
        "  plt.legend(['Train', 'val'], loc='upper left')\n",
        "  plt.show()\n",
        "\n",
        "  #training vs validation precision\n",
        "  plt.plot(epoch_range, history.history['precision_2'])\n",
        "  plt.plot(epoch_range, history.history['val_precision_2'])\n",
        "  plt.title('Model Precision')\n",
        "  plt.ylabel('Precision')\n",
        "  plt.xlabel('Epoch')\n",
        "  plt.legend(['Train', 'val'], loc='upper left')\n",
        "  plt.show()\n",
        "\n",
        "\n",
        "  #training vs validation precision\n",
        "  plt.plot(epoch_range, history.history['recall_2'])\n",
        "  plt.plot(epoch_range, history.history['val_recall_2'])\n",
        "  plt.title('Model Recall')\n",
        "  plt.ylabel('Recall')\n",
        "  plt.xlabel('Epoch')\n",
        "  plt.legend(['Train', 'val'], loc='upper left')\n",
        "  plt.show()"
      ],
      "metadata": {
        "id": "j-69_oVGXVuC"
      },
      "execution_count": null,
      "outputs": []
    },
    {
      "cell_type": "code",
      "source": [
        "learning_curve(history, 25)"
      ],
      "metadata": {
        "colab": {
          "base_uri": "https://localhost:8080/",
          "height": 1000
        },
        "id": "OD2EV6HJXyVt",
        "outputId": "64866969-0626-43a8-fcbf-fcafaa035b46"
      },
      "execution_count": null,
      "outputs": [
        {
          "output_type": "display_data",
          "data": {
            "text/plain": [
              "<Figure size 640x480 with 1 Axes>"
            ],
            "image/png": "[encoded data removed]"
          },
          "metadata": {}
        },
        {
          "output_type": "display_data",
          "data": {
            "text/plain": [
              "<Figure size 640x480 with 1 Axes>"
            ],
            "image/png": "[encoded data removed]"
          },
          "metadata": {}
        },
        {
          "output_type": "display_data",
          "data": {
            "text/plain": [
              "<Figure size 640x480 with 1 Axes>"
            ],
            "image/png": "[encoded data removed]"
          },
          "metadata": {}
        },
        {
          "output_type": "display_data",
          "data": {
            "text/plain": [
              "<Figure size 640x480 with 1 Axes>"
            ],
            "image/png": "[encoded data removed]"
          },
          "metadata": {}
        }
      ]
    },
    {
      "cell_type": "code",
      "source": [
        "# Salvare în Google Colab\n",
        "df.to_csv('fraud_results.csv', index=False)\n",
        "print(\"Fișierul a fost salvat în mediul Colab!\")\n"
      ],
      "metadata": {
        "colab": {
          "base_uri": "https://localhost:8080/"
        },
        "id": "cvjJYjBG9R5N",
        "outputId": "332dbc2e-2502-4ae7-9c94-f63a7cfb27b6"
      },
      "execution_count": null,
      "outputs": [
        {
          "output_type": "stream",
          "name": "stdout",
          "text": [
            "Fișierul a fost salvat în mediul Colab!\n"
          ]
        }
      ]
    },
    {
      "cell_type": "code",
      "source": [
        "from google.colab import files\n",
        "\n",
        "# Descărcare fișier\n",
        "files.download('fraud_results.csv')\n"
      ],
      "metadata": {
        "colab": {
          "base_uri": "https://localhost:8080/",
          "height": 37
        },
        "id": "Op23PCF49WMk",
        "outputId": "fc532edb-04e7-4ee2-e852-0596782bf2e6"
      },
      "execution_count": null,
      "outputs": [
        {
          "output_type": "display_data",
          "data": {
            "text/plain": [
              "<IPython.core.display.Javascript object>"
            ],
            "application/javascript": [
              "\n",
              "    async function download(id, filename, size) {\n",
              "      if (!google.colab.kernel.accessAllowed) {\n",
              "        return;\n",
              "      }\n",
              "      const div = document.createElement('div');\n",
              "      const label = document.createElement('label');\n",
              "      label.textContent = `Downloading \"${filename}\": `;\n",
              "      div.appendChild(label);\n",
              "      const progress = document.createElement('progress');\n",
              "      progress.max = size;\n",
              "      div.appendChild(progress);\n",
              "      document.body.appendChild(div);\n",
              "\n",
              "      const buffers = [];\n",
              "      let downloaded = 0;\n",
              "\n",
              "      const channel = await google.colab.kernel.comms.open(id);\n",
              "      // Send a message to notify the kernel that we're ready.\n",
              "      channel.send({})\n",
              "\n",
              "      for await (const message of channel.messages) {\n",
              "        // Send a message to notify the kernel that we're ready.\n",
              "        channel.send({})\n",
              "        if (message.buffers) {\n",
              "          for (const buffer of message.buffers) {\n",
              "            buffers.push(buffer);\n",
              "            downloaded += buffer.byteLength;\n",
              "            progress.value = downloaded;\n",
              "          }\n",
              "        }\n",
              "      }\n",
              "      const blob = new Blob(buffers, {type: 'application/binary'});\n",
              "      const a = document.createElement('a');\n",
              "      a.href = window.URL.createObjectURL(blob);\n",
              "      a.download = filename;\n",
              "      div.appendChild(a);\n",
              "      a.click();\n",
              "      div.remove();\n",
              "    }\n",
              "  "
            ]
          },
          "metadata": {}
        },
        {
          "output_type": "display_data",
          "data": {
            "text/plain": [
              "<IPython.core.display.Javascript object>"
            ],
            "application/javascript": [
              "download(\"download_49948649-21d0-4272-988f-5fefd2ae0a44\", \"fraud_results.csv\", 65)"
            ]
          },
          "metadata": {}
        }
      ]
    },
    {
      "cell_type": "code",
      "source": [
        "import pandas as pd\n",
        "\n",
        "# Exemplu de rezultate după rularea modelului\n",
        "results = {\n",
        "    \"transaction_id\": [1, 2, 3, 4, 5],\n",
        "    \"fraud_probability\": [0.2, 0.95, 0.1, 0.8, 0.99]\n",
        "}\n",
        "df = pd.DataFrame(results)\n"
      ],
      "metadata": {
        "id": "0MAthFhP9pLS"
      },
      "execution_count": null,
      "outputs": []
    }
  ]
}